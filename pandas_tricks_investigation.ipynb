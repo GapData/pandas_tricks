{
 "cells": [
  {
   "cell_type": "markdown",
   "metadata": {},
   "source": [
    "# Pandas tricks & pitfalls"
   ]
  },
  {
   "cell_type": "code",
   "execution_count": 1,
   "metadata": {
    "collapsed": false
   },
   "outputs": [
    {
     "name": "stderr",
     "output_type": "stream",
     "text": [
      "/home/ian/anaconda2/lib/python2.7/site-packages/matplotlib/font_manager.py:273: UserWarning: Matplotlib is building the font cache using fc-list. This may take a moment.\n",
      "  warnings.warn('Matplotlib is building the font cache using fc-list. This may take a moment.')\n"
     ]
    }
   ],
   "source": [
    "%matplotlib inline\n",
    "import pandas as pd\n",
    "import matplotlib.pyplot as plt"
   ]
  },
  {
   "cell_type": "code",
   "execution_count": 2,
   "metadata": {
    "collapsed": false
   },
   "outputs": [
    {
     "data": {
      "text/html": [
       "<div>\n",
       "<table border=\"1\" class=\"dataframe\">\n",
       "  <thead>\n",
       "    <tr style=\"text-align: right;\">\n",
       "      <th></th>\n",
       "      <th>movie</th>\n",
       "      <th>actor</th>\n",
       "      <th>rank</th>\n",
       "      <th>studio</th>\n",
       "      <th>bday</th>\n",
       "      <th>male</th>\n",
       "      <th>release_date</th>\n",
       "      <th>production_budget</th>\n",
       "      <th>domestic_gross</th>\n",
       "      <th>worldwide_gross</th>\n",
       "    </tr>\n",
       "  </thead>\n",
       "  <tbody>\n",
       "    <tr>\n",
       "      <th>0</th>\n",
       "      <td>(500) Days of Summer</td>\n",
       "      <td>Chloe Moretz</td>\n",
       "      <td>11</td>\n",
       "      <td>FoxS</td>\n",
       "      <td>1997-02-10</td>\n",
       "      <td>0</td>\n",
       "      <td>2009-07-17</td>\n",
       "      <td>7500000</td>\n",
       "      <td>32391374</td>\n",
       "      <td>59101642</td>\n",
       "    </tr>\n",
       "    <tr>\n",
       "      <th>1</th>\n",
       "      <td>(500) Days of Summer</td>\n",
       "      <td>Clark Gregg</td>\n",
       "      <td>7</td>\n",
       "      <td>FoxS</td>\n",
       "      <td>1962-04-02</td>\n",
       "      <td>1</td>\n",
       "      <td>2009-07-17</td>\n",
       "      <td>7500000</td>\n",
       "      <td>32391374</td>\n",
       "      <td>59101642</td>\n",
       "    </tr>\n",
       "    <tr>\n",
       "      <th>2</th>\n",
       "      <td>(500) Days of Summer</td>\n",
       "      <td>Minka Kelly</td>\n",
       "      <td>-</td>\n",
       "      <td>FoxS</td>\n",
       "      <td>1980-06-24</td>\n",
       "      <td>0</td>\n",
       "      <td>2009-07-17</td>\n",
       "      <td>7500000</td>\n",
       "      <td>32391374</td>\n",
       "      <td>59101642</td>\n",
       "    </tr>\n",
       "    <tr>\n",
       "      <th>3</th>\n",
       "      <td>(500) Days of Summer</td>\n",
       "      <td>Zooey Deschanel</td>\n",
       "      <td>10</td>\n",
       "      <td>FoxS</td>\n",
       "      <td>1980-01-17</td>\n",
       "      <td>0</td>\n",
       "      <td>2009-07-17</td>\n",
       "      <td>7500000</td>\n",
       "      <td>32391374</td>\n",
       "      <td>59101642</td>\n",
       "    </tr>\n",
       "    <tr>\n",
       "      <th>4</th>\n",
       "      <td>10 Cloverfield Lane</td>\n",
       "      <td>Mary Elizabeth Winstead</td>\n",
       "      <td>4</td>\n",
       "      <td>Par.</td>\n",
       "      <td>1984-11-28</td>\n",
       "      <td>0</td>\n",
       "      <td>2016-03-11</td>\n",
       "      <td>5000000</td>\n",
       "      <td>69793284</td>\n",
       "      <td>101493284</td>\n",
       "    </tr>\n",
       "  </tbody>\n",
       "</table>\n",
       "</div>"
      ],
      "text/plain": [
       "                  movie                    actor rank studio        bday  \\\n",
       "0  (500) Days of Summer             Chloe Moretz   11   FoxS  1997-02-10   \n",
       "1  (500) Days of Summer              Clark Gregg    7   FoxS  1962-04-02   \n",
       "2  (500) Days of Summer              Minka Kelly    -   FoxS  1980-06-24   \n",
       "3  (500) Days of Summer          Zooey Deschanel   10   FoxS  1980-01-17   \n",
       "4   10 Cloverfield Lane  Mary Elizabeth Winstead    4   Par.  1984-11-28   \n",
       "\n",
       "   male release_date  production_budget  domestic_gross  worldwide_gross  \n",
       "0     0   2009-07-17            7500000        32391374         59101642  \n",
       "1     1   2009-07-17            7500000        32391374         59101642  \n",
       "2     0   2009-07-17            7500000        32391374         59101642  \n",
       "3     0   2009-07-17            7500000        32391374         59101642  \n",
       "4     0   2016-03-11            5000000        69793284        101493284  "
      ]
     },
     "execution_count": 2,
     "metadata": {},
     "output_type": "execute_result"
    }
   ],
   "source": [
    "df = pd.read_csv('mini_movie_data.csv')\n",
    "\n",
    "df.head()"
   ]
  },
  {
   "cell_type": "code",
   "execution_count": 3,
   "metadata": {
    "collapsed": false,
    "scrolled": true
   },
   "outputs": [
    {
     "data": {
      "text/html": [
       "<div>\n",
       "<table border=\"1\" class=\"dataframe\">\n",
       "  <thead>\n",
       "    <tr style=\"text-align: right;\">\n",
       "      <th></th>\n",
       "      <th>male</th>\n",
       "      <th>production_budget</th>\n",
       "      <th>domestic_gross</th>\n",
       "      <th>worldwide_gross</th>\n",
       "    </tr>\n",
       "  </thead>\n",
       "  <tbody>\n",
       "    <tr>\n",
       "      <th>count</th>\n",
       "      <td>9342.000000</td>\n",
       "      <td>9.342000e+03</td>\n",
       "      <td>9.342000e+03</td>\n",
       "      <td>9.342000e+03</td>\n",
       "    </tr>\n",
       "    <tr>\n",
       "      <th>mean</th>\n",
       "      <td>0.668593</td>\n",
       "      <td>5.082997e+07</td>\n",
       "      <td>6.888544e+07</td>\n",
       "      <td>1.540798e+08</td>\n",
       "    </tr>\n",
       "    <tr>\n",
       "      <th>std</th>\n",
       "      <td>0.470744</td>\n",
       "      <td>5.020522e+07</td>\n",
       "      <td>8.230204e+07</td>\n",
       "      <td>2.253854e+08</td>\n",
       "    </tr>\n",
       "    <tr>\n",
       "      <th>min</th>\n",
       "      <td>0.000000</td>\n",
       "      <td>1.500000e+04</td>\n",
       "      <td>0.000000e+00</td>\n",
       "      <td>0.000000e+00</td>\n",
       "    </tr>\n",
       "    <tr>\n",
       "      <th>25%</th>\n",
       "      <td>0.000000</td>\n",
       "      <td>1.600000e+07</td>\n",
       "      <td>1.503490e+07</td>\n",
       "      <td>2.284500e+07</td>\n",
       "    </tr>\n",
       "    <tr>\n",
       "      <th>50%</th>\n",
       "      <td>1.000000</td>\n",
       "      <td>3.500000e+07</td>\n",
       "      <td>4.033402e+07</td>\n",
       "      <td>7.143088e+07</td>\n",
       "    </tr>\n",
       "    <tr>\n",
       "      <th>75%</th>\n",
       "      <td>1.000000</td>\n",
       "      <td>6.900000e+07</td>\n",
       "      <td>9.216786e+07</td>\n",
       "      <td>1.857085e+08</td>\n",
       "    </tr>\n",
       "    <tr>\n",
       "      <th>max</th>\n",
       "      <td>1.000000</td>\n",
       "      <td>4.250000e+08</td>\n",
       "      <td>7.605076e+08</td>\n",
       "      <td>2.783919e+09</td>\n",
       "    </tr>\n",
       "  </tbody>\n",
       "</table>\n",
       "</div>"
      ],
      "text/plain": [
       "              male  production_budget  domestic_gross  worldwide_gross\n",
       "count  9342.000000       9.342000e+03    9.342000e+03     9.342000e+03\n",
       "mean      0.668593       5.082997e+07    6.888544e+07     1.540798e+08\n",
       "std       0.470744       5.020522e+07    8.230204e+07     2.253854e+08\n",
       "min       0.000000       1.500000e+04    0.000000e+00     0.000000e+00\n",
       "25%       0.000000       1.600000e+07    1.503490e+07     2.284500e+07\n",
       "50%       1.000000       3.500000e+07    4.033402e+07     7.143088e+07\n",
       "75%       1.000000       6.900000e+07    9.216786e+07     1.857085e+08\n",
       "max       1.000000       4.250000e+08    7.605076e+08     2.783919e+09"
      ]
     },
     "execution_count": 3,
     "metadata": {},
     "output_type": "execute_result"
    }
   ],
   "source": [
    "df.describe()"
   ]
  },
  {
   "cell_type": "markdown",
   "metadata": {},
   "source": [
    "# isin"
   ]
  },
  {
   "cell_type": "markdown",
   "metadata": {},
   "source": [
    "# The `rename` function"
   ]
  },
  {
   "cell_type": "code",
   "execution_count": 4,
   "metadata": {
    "collapsed": false
   },
   "outputs": [
    {
     "data": {
      "text/html": [
       "<div>\n",
       "<table border=\"1\" class=\"dataframe\">\n",
       "  <thead>\n",
       "    <tr style=\"text-align: right;\">\n",
       "      <th></th>\n",
       "      <th>title</th>\n",
       "      <th>actor</th>\n",
       "      <th>rank</th>\n",
       "      <th>studio</th>\n",
       "      <th>bday</th>\n",
       "      <th>male</th>\n",
       "      <th>release_date</th>\n",
       "      <th>production_budget</th>\n",
       "      <th>domestic_gross</th>\n",
       "      <th>worldwide_gross</th>\n",
       "    </tr>\n",
       "  </thead>\n",
       "  <tbody>\n",
       "    <tr>\n",
       "      <th>0</th>\n",
       "      <td>(500) Days of Summer</td>\n",
       "      <td>Chloe Moretz</td>\n",
       "      <td>11</td>\n",
       "      <td>FoxS</td>\n",
       "      <td>1997-02-10</td>\n",
       "      <td>0</td>\n",
       "      <td>2009-07-17</td>\n",
       "      <td>7500000</td>\n",
       "      <td>32391374</td>\n",
       "      <td>59101642</td>\n",
       "    </tr>\n",
       "    <tr>\n",
       "      <th>1</th>\n",
       "      <td>(500) Days of Summer</td>\n",
       "      <td>Clark Gregg</td>\n",
       "      <td>7</td>\n",
       "      <td>FoxS</td>\n",
       "      <td>1962-04-02</td>\n",
       "      <td>1</td>\n",
       "      <td>2009-07-17</td>\n",
       "      <td>7500000</td>\n",
       "      <td>32391374</td>\n",
       "      <td>59101642</td>\n",
       "    </tr>\n",
       "    <tr>\n",
       "      <th>2</th>\n",
       "      <td>(500) Days of Summer</td>\n",
       "      <td>Minka Kelly</td>\n",
       "      <td>-</td>\n",
       "      <td>FoxS</td>\n",
       "      <td>1980-06-24</td>\n",
       "      <td>0</td>\n",
       "      <td>2009-07-17</td>\n",
       "      <td>7500000</td>\n",
       "      <td>32391374</td>\n",
       "      <td>59101642</td>\n",
       "    </tr>\n",
       "    <tr>\n",
       "      <th>3</th>\n",
       "      <td>(500) Days of Summer</td>\n",
       "      <td>Zooey Deschanel</td>\n",
       "      <td>10</td>\n",
       "      <td>FoxS</td>\n",
       "      <td>1980-01-17</td>\n",
       "      <td>0</td>\n",
       "      <td>2009-07-17</td>\n",
       "      <td>7500000</td>\n",
       "      <td>32391374</td>\n",
       "      <td>59101642</td>\n",
       "    </tr>\n",
       "    <tr>\n",
       "      <th>4</th>\n",
       "      <td>10 Cloverfield Lane</td>\n",
       "      <td>Mary Elizabeth Winstead</td>\n",
       "      <td>4</td>\n",
       "      <td>Par.</td>\n",
       "      <td>1984-11-28</td>\n",
       "      <td>0</td>\n",
       "      <td>2016-03-11</td>\n",
       "      <td>5000000</td>\n",
       "      <td>69793284</td>\n",
       "      <td>101493284</td>\n",
       "    </tr>\n",
       "  </tbody>\n",
       "</table>\n",
       "</div>"
      ],
      "text/plain": [
       "                  title                    actor rank studio        bday  \\\n",
       "0  (500) Days of Summer             Chloe Moretz   11   FoxS  1997-02-10   \n",
       "1  (500) Days of Summer              Clark Gregg    7   FoxS  1962-04-02   \n",
       "2  (500) Days of Summer              Minka Kelly    -   FoxS  1980-06-24   \n",
       "3  (500) Days of Summer          Zooey Deschanel   10   FoxS  1980-01-17   \n",
       "4   10 Cloverfield Lane  Mary Elizabeth Winstead    4   Par.  1984-11-28   \n",
       "\n",
       "   male release_date  production_budget  domestic_gross  worldwide_gross  \n",
       "0     0   2009-07-17            7500000        32391374         59101642  \n",
       "1     1   2009-07-17            7500000        32391374         59101642  \n",
       "2     0   2009-07-17            7500000        32391374         59101642  \n",
       "3     0   2009-07-17            7500000        32391374         59101642  \n",
       "4     0   2016-03-11            5000000        69793284        101493284  "
      ]
     },
     "execution_count": 4,
     "metadata": {},
     "output_type": "execute_result"
    }
   ],
   "source": [
    "# rename the 'movie' column to 'title'.\n",
    "# you can rename multiple columns by adding more key:value pairs to the dictionary\n",
    "df.rename(columns={'movie':'title'}, inplace=True)\n",
    "df.head()"
   ]
  },
  {
   "cell_type": "markdown",
   "metadata": {},
   "source": [
    "# unique"
   ]
  },
  {
   "cell_type": "code",
   "execution_count": 5,
   "metadata": {
    "collapsed": false
   },
   "outputs": [
    {
     "name": "stdout",
     "output_type": "stream",
     "text": [
      "151\n"
     ]
    }
   ],
   "source": [
    "# how many unique studio names are there?\n",
    "print len(df.studio.unique())"
   ]
  },
  {
   "cell_type": "code",
   "execution_count": 6,
   "metadata": {
    "collapsed": false
   },
   "outputs": [
    {
     "name": "stdout",
     "output_type": "stream",
     "text": [
      "['FoxS' 'Par.' 'BV' 'Think' 'Fox' 'MGM/W' 'NL' 'WB' 'WB (NL)' 'Uni.' 'Sony'\n",
      " 'SPC' 'Focus' 'Rela.' 'FoxA' 'LGF' 'Mira.' 'Anch.' 'Sum.' 'Orion' 'UA'\n",
      " 'Col.' 'MGM' 'ORF' 'WIP' 'ParV' 'A24' 'RAtt.' 'PicH' 'Cinc' 'Wein.' 'P/DW'\n",
      " 'FRun' 'SGem' 'SonR' 'Lori' 'NM' 'LG/S' 'Magn.' 'Strand' 'DW' 'Eros'\n",
      " 'Lions' 'FL' 'Vari.' 'Viv.' 'CE' 'VE' 'P4' 'First' 'Echo' 'RTWC' 'Dim.'\n",
      " 'CBS' 'USA' 'MNE' 'Circ' 'Rom.' 'Can.' 'Film' 'Art.' 'FFn.' 'Free' 'IFC'\n",
      " 'App.' 'CityL' 'Over.' 'ATO' 'Gram.' 'TriS' 'AL' 'IDP' 'ParC' 'Fabr.'\n",
      " 'WGUSA' 'BST' 'FD' 'Wells' 'Dar.' 'Gold.' 'Acc.' 'Imag.' 'BDF' 'Dest.'\n",
      " 'OMNI/FSR' 'TRR' 'FInd.' 'Emb' 'Trim.' 'Vita.' 'YFG' 'Ode.' 'Drft.'\n",
      " 'Roxie' 'W/Dim.' 'Good' 'Cow.' 'LGP' 'WHE' 'Prior.' 'Rog.' 'Code' 'LD'\n",
      " 'Oct.' 'PMKBNC' 'Lot47' 'NCeV' 'E1' 'IA' 'Mont.' 'RS' 'Osci.' 'PH' 'AIP'\n",
      " 'AFFRM' 'NYer' 'RCR' 'IMG/B' 'GldC' 'NW' 'SMod' 'Isld' 'Boro.' 'Slow'\n",
      " 'Sav.' 'RKO' 'TFA' 'Istr' 'Triu' 'Alc' 'Atl' 'Cohen' 'Indic.' 'Poly'\n",
      " 'Scre.' 'STX' 'Pala.' 'Saban' 'SenD' 'Strat.' 'Mang.' 'AFD' 'Excel' 'IW'\n",
      " 'BPic' 'GK' 'Reg.' 'RM' 'NxtM' 'FCW' 'OrionC']\n"
     ]
    }
   ],
   "source": [
    "print df.studio.unique()"
   ]
  },
  {
   "cell_type": "code",
   "execution_count": 7,
   "metadata": {
    "collapsed": false
   },
   "outputs": [
    {
     "name": "stdout",
     "output_type": "stream",
     "text": [
      "['A24', 'AFD', 'AFFRM', 'AIP', 'AL', 'ATO', 'Acc.', 'Alc', 'Anch.', 'App.', 'Art.', 'Atl', 'BDF', 'BPic', 'BST', 'BV', 'Boro.', 'CBS', 'CE', 'Can.', 'Cinc', 'Circ', 'CityL', 'Code', 'Cohen', 'Col.', 'Cow.', 'DW', 'Dar.', 'Dest.', 'Dim.', 'Drft.', 'E1', 'Echo', 'Emb', 'Eros', 'Excel', 'FCW', 'FD', 'FFn.', 'FInd.', 'FL', 'FRun', 'Fabr.', 'Film', 'First', 'Focus', 'Fox', 'FoxA', 'FoxS', 'Free', 'GK', 'GldC', 'Gold.', 'Good', 'Gram.', 'IA', 'IDP', 'IFC', 'IMG/B', 'IW', 'Imag.', 'Indic.', 'Isld', 'Istr', 'LD', 'LG/S', 'LGF', 'LGP', 'Lions', 'Lori', 'Lot47', 'MGM', 'MGM/W', 'MNE', 'Magn.', 'Mang.', 'Mira.', 'Mont.', 'NCeV', 'NL', 'NM', 'NW', 'NYer', 'NxtM', 'OMNI/FSR', 'ORF', 'Oct.', 'Ode.', 'Orion', 'OrionC', 'Osci.', 'Over.', 'P/DW', 'P4', 'PH', 'PMKBNC', 'Pala.', 'Par.', 'ParC', 'ParV', 'PicH', 'Poly', 'Prior.', 'RAtt.', 'RCR', 'RKO', 'RM', 'RS', 'RTWC', 'Reg.', 'Rela.', 'Rog.', 'Rom.', 'Roxie', 'SGem', 'SMod', 'SPC', 'STX', 'Saban', 'Sav.', 'Scre.', 'SenD', 'Slow', 'SonR', 'Sony', 'Strand', 'Strat.', 'Sum.', 'TFA', 'TRR', 'Think', 'TriS', 'Trim.', 'Triu', 'UA', 'USA', 'Uni.', 'VE', 'Vari.', 'Vita.', 'Viv.', 'W/Dim.', 'WB', 'WB (NL)', 'WGUSA', 'WHE', 'WIP', 'Wein.', 'Wells', 'YFG']\n"
     ]
    }
   ],
   "source": [
    "# unique values will not be sorted, you have to do it yourself\n",
    "print sorted(df.studio.unique())"
   ]
  },
  {
   "cell_type": "markdown",
   "metadata": {},
   "source": [
    "# Groupby objects"
   ]
  },
  {
   "cell_type": "code",
   "execution_count": 8,
   "metadata": {
    "collapsed": false
   },
   "outputs": [
    {
     "data": {
      "text/plain": [
       "<pandas.core.groupby.DataFrameGroupBy object at 0x7fbf45476d90>"
      ]
     },
     "execution_count": 8,
     "metadata": {},
     "output_type": "execute_result"
    }
   ],
   "source": [
    "actors = df.groupby('actor')\n",
    "# this is a groupby object. do not be scared. it is your friend.\n",
    "actors"
   ]
  },
  {
   "cell_type": "code",
   "execution_count": 9,
   "metadata": {
    "collapsed": false
   },
   "outputs": [
    {
     "data": {
      "text/html": [
       "<div>\n",
       "<table border=\"1\" class=\"dataframe\">\n",
       "  <thead>\n",
       "    <tr style=\"text-align: right;\">\n",
       "      <th></th>\n",
       "      <th>male</th>\n",
       "      <th>production_budget</th>\n",
       "      <th>domestic_gross</th>\n",
       "      <th>worldwide_gross</th>\n",
       "    </tr>\n",
       "    <tr>\n",
       "      <th>actor</th>\n",
       "      <th></th>\n",
       "      <th></th>\n",
       "      <th></th>\n",
       "      <th></th>\n",
       "    </tr>\n",
       "  </thead>\n",
       "  <tbody>\n",
       "    <tr>\n",
       "      <th>Aaron Eckhart</th>\n",
       "      <td>1</td>\n",
       "      <td>50879761.904762</td>\n",
       "      <td>60332817.285714</td>\n",
       "      <td>1.171763e+08</td>\n",
       "    </tr>\n",
       "    <tr>\n",
       "      <th>Aaron Johnson</th>\n",
       "      <td>1</td>\n",
       "      <td>42711111.111111</td>\n",
       "      <td>48842115.333333</td>\n",
       "      <td>1.134827e+08</td>\n",
       "    </tr>\n",
       "    <tr>\n",
       "      <th>Abbie Cornish</th>\n",
       "      <td>0</td>\n",
       "      <td>51000000.000000</td>\n",
       "      <td>31561471.888889</td>\n",
       "      <td>8.960463e+07</td>\n",
       "    </tr>\n",
       "    <tr>\n",
       "      <th>Abigail Breslin</th>\n",
       "      <td>0</td>\n",
       "      <td>37006036.411765</td>\n",
       "      <td>59929721.529412</td>\n",
       "      <td>1.025613e+08</td>\n",
       "    </tr>\n",
       "    <tr>\n",
       "      <th>Adam Brody</th>\n",
       "      <td>1</td>\n",
       "      <td>20625000.000000</td>\n",
       "      <td>41378861.700000</td>\n",
       "      <td>7.525851e+07</td>\n",
       "    </tr>\n",
       "  </tbody>\n",
       "</table>\n",
       "</div>"
      ],
      "text/plain": [
       "                 male  production_budget   domestic_gross  worldwide_gross\n",
       "actor                                                                     \n",
       "Aaron Eckhart       1    50879761.904762  60332817.285714     1.171763e+08\n",
       "Aaron Johnson       1    42711111.111111  48842115.333333     1.134827e+08\n",
       "Abbie Cornish       0    51000000.000000  31561471.888889     8.960463e+07\n",
       "Abigail Breslin     0    37006036.411765  59929721.529412     1.025613e+08\n",
       "Adam Brody          1    20625000.000000  41378861.700000     7.525851e+07"
      ]
     },
     "execution_count": 9,
     "metadata": {},
     "output_type": "execute_result"
    }
   ],
   "source": [
    "actors.mean().head()"
   ]
  },
  {
   "cell_type": "code",
   "execution_count": 10,
   "metadata": {
    "collapsed": false
   },
   "outputs": [
    {
     "data": {
      "text/plain": [
       "actor\n",
       "Aaron Eckhart       21\n",
       "Aaron Johnson        9\n",
       "Abbie Cornish        9\n",
       "Abigail Breslin     17\n",
       "Adam Brody          10\n",
       "Adam DeVine          2\n",
       "Adam Sandler        28\n",
       "Adrianne Palicki     2\n",
       "Adrien Brody        15\n",
       "Aimee Teegarden      2\n",
       "dtype: int64"
      ]
     },
     "execution_count": 10,
     "metadata": {},
     "output_type": "execute_result"
    }
   ],
   "source": [
    "# calling size() on a groupby object will return the number of rows each group contains.\n",
    "# here, how many roles each actor has\n",
    "actors.size().head(10)"
   ]
  },
  {
   "cell_type": "code",
   "execution_count": 11,
   "metadata": {
    "collapsed": false
   },
   "outputs": [
    {
     "data": {
      "text/html": [
       "<div>\n",
       "<table border=\"1\" class=\"dataframe\">\n",
       "  <thead>\n",
       "    <tr>\n",
       "      <th></th>\n",
       "      <th colspan=\"5\" halign=\"left\">domestic_gross</th>\n",
       "      <th colspan=\"5\" halign=\"left\">worldwide_gross</th>\n",
       "    </tr>\n",
       "    <tr>\n",
       "      <th></th>\n",
       "      <th>mean</th>\n",
       "      <th>count</th>\n",
       "      <th>std</th>\n",
       "      <th>min</th>\n",
       "      <th>max</th>\n",
       "      <th>mean</th>\n",
       "      <th>count</th>\n",
       "      <th>std</th>\n",
       "      <th>min</th>\n",
       "      <th>max</th>\n",
       "    </tr>\n",
       "    <tr>\n",
       "      <th>actor</th>\n",
       "      <th></th>\n",
       "      <th></th>\n",
       "      <th></th>\n",
       "      <th></th>\n",
       "      <th></th>\n",
       "      <th></th>\n",
       "      <th></th>\n",
       "      <th></th>\n",
       "      <th></th>\n",
       "      <th></th>\n",
       "    </tr>\n",
       "  </thead>\n",
       "  <tbody>\n",
       "    <tr>\n",
       "      <th>Aaron Eckhart</th>\n",
       "      <td>6.033282e+07</td>\n",
       "      <td>21</td>\n",
       "      <td>1.138151e+08</td>\n",
       "      <td>17396</td>\n",
       "      <td>533345358</td>\n",
       "      <td>1.171763e+08</td>\n",
       "      <td>21</td>\n",
       "      <td>2.158466e+08</td>\n",
       "      <td>17396</td>\n",
       "      <td>1002891358</td>\n",
       "    </tr>\n",
       "    <tr>\n",
       "      <th>Aaron Johnson</th>\n",
       "      <td>4.884212e+07</td>\n",
       "      <td>9</td>\n",
       "      <td>6.081880e+07</td>\n",
       "      <td>115862</td>\n",
       "      <td>200672193</td>\n",
       "      <td>1.134827e+08</td>\n",
       "      <td>9</td>\n",
       "      <td>1.596594e+08</td>\n",
       "      <td>117796</td>\n",
       "      <td>529072193</td>\n",
       "    </tr>\n",
       "    <tr>\n",
       "      <th>Abbie Cornish</th>\n",
       "      <td>3.156147e+07</td>\n",
       "      <td>9</td>\n",
       "      <td>2.706417e+07</td>\n",
       "      <td>4444637</td>\n",
       "      <td>79249455</td>\n",
       "      <td>8.960463e+07</td>\n",
       "      <td>9</td>\n",
       "      <td>7.701140e+07</td>\n",
       "      <td>11229035</td>\n",
       "      <td>242981799</td>\n",
       "    </tr>\n",
       "    <tr>\n",
       "      <th>Abigail Breslin</th>\n",
       "      <td>5.992972e+07</td>\n",
       "      <td>17</td>\n",
       "      <td>5.285277e+07</td>\n",
       "      <td>187112</td>\n",
       "      <td>227965690</td>\n",
       "      <td>1.025613e+08</td>\n",
       "      <td>17</td>\n",
       "      <td>9.785130e+07</td>\n",
       "      <td>597989</td>\n",
       "      <td>408265690</td>\n",
       "    </tr>\n",
       "    <tr>\n",
       "      <th>Adam Brody</th>\n",
       "      <td>4.137886e+07</td>\n",
       "      <td>10</td>\n",
       "      <td>5.263487e+07</td>\n",
       "      <td>769726</td>\n",
       "      <td>145096820</td>\n",
       "      <td>7.525851e+07</td>\n",
       "      <td>10</td>\n",
       "      <td>1.056659e+08</td>\n",
       "      <td>786677</td>\n",
       "      <td>286500000</td>\n",
       "    </tr>\n",
       "    <tr>\n",
       "      <th>Adam DeVine</th>\n",
       "      <td>1.243933e+08</td>\n",
       "      <td>2</td>\n",
       "      <td>8.399320e+07</td>\n",
       "      <td>65001093</td>\n",
       "      <td>183785415</td>\n",
       "      <td>2.015199e+08</td>\n",
       "      <td>2</td>\n",
       "      <td>1.208806e+08</td>\n",
       "      <td>116044347</td>\n",
       "      <td>286995378</td>\n",
       "    </tr>\n",
       "    <tr>\n",
       "      <th>Adam Sandler</th>\n",
       "      <td>9.154979e+07</td>\n",
       "      <td>28</td>\n",
       "      <td>5.320617e+07</td>\n",
       "      <td>9975684</td>\n",
       "      <td>169700110</td>\n",
       "      <td>1.618510e+08</td>\n",
       "      <td>28</td>\n",
       "      <td>1.110394e+08</td>\n",
       "      <td>9975684</td>\n",
       "      <td>469384471</td>\n",
       "    </tr>\n",
       "    <tr>\n",
       "      <th>Adrianne Palicki</th>\n",
       "      <td>8.366492e+07</td>\n",
       "      <td>2</td>\n",
       "      <td>5.495371e+07</td>\n",
       "      <td>44806783</td>\n",
       "      <td>122523060</td>\n",
       "      <td>2.100436e+08</td>\n",
       "      <td>2</td>\n",
       "      <td>2.289321e+08</td>\n",
       "      <td>48164150</td>\n",
       "      <td>371923060</td>\n",
       "    </tr>\n",
       "    <tr>\n",
       "      <th>Adrien Brody</th>\n",
       "      <td>4.229720e+07</td>\n",
       "      <td>15</td>\n",
       "      <td>5.760924e+07</td>\n",
       "      <td>12836</td>\n",
       "      <td>218080025</td>\n",
       "      <td>1.039203e+08</td>\n",
       "      <td>15</td>\n",
       "      <td>1.465820e+08</td>\n",
       "      <td>12836</td>\n",
       "      <td>550517357</td>\n",
       "    </tr>\n",
       "    <tr>\n",
       "      <th>Aimee Teegarden</th>\n",
       "      <td>2.415557e+07</td>\n",
       "      <td>2</td>\n",
       "      <td>1.983485e+07</td>\n",
       "      <td>10130219</td>\n",
       "      <td>38180928</td>\n",
       "      <td>5.337639e+07</td>\n",
       "      <td>2</td>\n",
       "      <td>6.026417e+07</td>\n",
       "      <td>10763183</td>\n",
       "      <td>95989590</td>\n",
       "    </tr>\n",
       "  </tbody>\n",
       "</table>\n",
       "</div>"
      ],
      "text/plain": [
       "                 domestic_gross                                           \\\n",
       "                           mean count           std       min        max   \n",
       "actor                                                                      \n",
       "Aaron Eckhart      6.033282e+07    21  1.138151e+08     17396  533345358   \n",
       "Aaron Johnson      4.884212e+07     9  6.081880e+07    115862  200672193   \n",
       "Abbie Cornish      3.156147e+07     9  2.706417e+07   4444637   79249455   \n",
       "Abigail Breslin    5.992972e+07    17  5.285277e+07    187112  227965690   \n",
       "Adam Brody         4.137886e+07    10  5.263487e+07    769726  145096820   \n",
       "Adam DeVine        1.243933e+08     2  8.399320e+07  65001093  183785415   \n",
       "Adam Sandler       9.154979e+07    28  5.320617e+07   9975684  169700110   \n",
       "Adrianne Palicki   8.366492e+07     2  5.495371e+07  44806783  122523060   \n",
       "Adrien Brody       4.229720e+07    15  5.760924e+07     12836  218080025   \n",
       "Aimee Teegarden    2.415557e+07     2  1.983485e+07  10130219   38180928   \n",
       "\n",
       "                 worldwide_gross                                             \n",
       "                            mean count           std        min         max  \n",
       "actor                                                                        \n",
       "Aaron Eckhart       1.171763e+08    21  2.158466e+08      17396  1002891358  \n",
       "Aaron Johnson       1.134827e+08     9  1.596594e+08     117796   529072193  \n",
       "Abbie Cornish       8.960463e+07     9  7.701140e+07   11229035   242981799  \n",
       "Abigail Breslin     1.025613e+08    17  9.785130e+07     597989   408265690  \n",
       "Adam Brody          7.525851e+07    10  1.056659e+08     786677   286500000  \n",
       "Adam DeVine         2.015199e+08     2  1.208806e+08  116044347   286995378  \n",
       "Adam Sandler        1.618510e+08    28  1.110394e+08    9975684   469384471  \n",
       "Adrianne Palicki    2.100436e+08     2  2.289321e+08   48164150   371923060  \n",
       "Adrien Brody        1.039203e+08    15  1.465820e+08      12836   550517357  \n",
       "Aimee Teegarden     5.337639e+07     2  6.026417e+07   10763183    95989590  "
      ]
     },
     "execution_count": 11,
     "metadata": {},
     "output_type": "execute_result"
    }
   ],
   "source": [
    "# agg() can take a list of functions. \n",
    "# It makes a new column and applies them to each group in a groupby\n",
    "actors['domestic_gross','worldwide_gross'].agg(['mean','count','std','min','max']).head(10)"
   ]
  },
  {
   "cell_type": "code",
   "execution_count": 12,
   "metadata": {
    "collapsed": false
   },
   "outputs": [
    {
     "data": {
      "text/plain": [
       "actor\n",
       "Susan Sarandon      33\n",
       "Julia Roberts       32\n",
       "Julianne Moore      31\n",
       "Cate Blanchett      30\n",
       "Sigourney Weaver    29\n",
       "dtype: int64"
      ]
     },
     "execution_count": 12,
     "metadata": {},
     "output_type": "execute_result"
    }
   ],
   "source": [
    "# ASIDE: which female actors appear most often in the dataset?\n",
    "top_actresses = df[df.male==0].groupby('actor').size().sort_values(ascending=False).head()\n",
    "top_actresses"
   ]
  },
  {
   "cell_type": "code",
   "execution_count": 13,
   "metadata": {
    "collapsed": false
   },
   "outputs": [],
   "source": [
    "# often we want to select all rows where a column contains any value in a list\n",
    "# eg, select all rows where df.actor is in our list of actors\n",
    "actor_list = ['Susan Sarandon','Julia Roberts']\n",
    "# This won't work:\n",
    "# df[df.actor in actor_list]"
   ]
  },
  {
   "cell_type": "code",
   "execution_count": 14,
   "metadata": {
    "collapsed": false
   },
   "outputs": [
    {
     "data": {
      "text/html": [
       "<div>\n",
       "<table border=\"1\" class=\"dataframe\">\n",
       "  <thead>\n",
       "    <tr style=\"text-align: right;\">\n",
       "      <th></th>\n",
       "      <th>title</th>\n",
       "      <th>actor</th>\n",
       "      <th>rank</th>\n",
       "      <th>studio</th>\n",
       "      <th>bday</th>\n",
       "      <th>male</th>\n",
       "      <th>release_date</th>\n",
       "      <th>production_budget</th>\n",
       "      <th>domestic_gross</th>\n",
       "      <th>worldwide_gross</th>\n",
       "    </tr>\n",
       "  </thead>\n",
       "  <tbody>\n",
       "    <tr>\n",
       "      <th>353</th>\n",
       "      <td>Alfie</td>\n",
       "      <td>Susan Sarandon</td>\n",
       "      <td>32</td>\n",
       "      <td>Par.</td>\n",
       "      <td>1946-10-04</td>\n",
       "      <td>0</td>\n",
       "      <td>2004-11-05</td>\n",
       "      <td>40000000</td>\n",
       "      <td>13395939</td>\n",
       "      <td>35195939</td>\n",
       "    </tr>\n",
       "    <tr>\n",
       "      <th>442</th>\n",
       "      <td>America's Sweethearts</td>\n",
       "      <td>Julia Roberts</td>\n",
       "      <td>14</td>\n",
       "      <td>SonR</td>\n",
       "      <td>1967-10-28</td>\n",
       "      <td>0</td>\n",
       "      <td>2001-07-20</td>\n",
       "      <td>46000000</td>\n",
       "      <td>93607673</td>\n",
       "      <td>160648493</td>\n",
       "    </tr>\n",
       "    <tr>\n",
       "      <th>607</th>\n",
       "      <td>Anywhere But Here</td>\n",
       "      <td>Susan Sarandon</td>\n",
       "      <td>25</td>\n",
       "      <td>Fox</td>\n",
       "      <td>1946-10-04</td>\n",
       "      <td>0</td>\n",
       "      <td>1999-11-12</td>\n",
       "      <td>23000000</td>\n",
       "      <td>18653615</td>\n",
       "      <td>18653615</td>\n",
       "    </tr>\n",
       "    <tr>\n",
       "      <th>624</th>\n",
       "      <td>Arbitrage</td>\n",
       "      <td>Susan Sarandon</td>\n",
       "      <td>39</td>\n",
       "      <td>RAtt.</td>\n",
       "      <td>1946-10-04</td>\n",
       "      <td>0</td>\n",
       "      <td>2012-09-14</td>\n",
       "      <td>12000000</td>\n",
       "      <td>7919574</td>\n",
       "      <td>35830713</td>\n",
       "    </tr>\n",
       "    <tr>\n",
       "      <th>686</th>\n",
       "      <td>August: Osage County</td>\n",
       "      <td>Julia Roberts</td>\n",
       "      <td>28</td>\n",
       "      <td>Wein.</td>\n",
       "      <td>1967-10-28</td>\n",
       "      <td>0</td>\n",
       "      <td>2013-12-25</td>\n",
       "      <td>25000000</td>\n",
       "      <td>37738810</td>\n",
       "      <td>50738810</td>\n",
       "    </tr>\n",
       "  </tbody>\n",
       "</table>\n",
       "</div>"
      ],
      "text/plain": [
       "                     title           actor rank studio        bday  male  \\\n",
       "353                  Alfie  Susan Sarandon   32   Par.  1946-10-04     0   \n",
       "442  America's Sweethearts   Julia Roberts   14   SonR  1967-10-28     0   \n",
       "607      Anywhere But Here  Susan Sarandon   25    Fox  1946-10-04     0   \n",
       "624              Arbitrage  Susan Sarandon   39  RAtt.  1946-10-04     0   \n",
       "686   August: Osage County   Julia Roberts   28  Wein.  1967-10-28     0   \n",
       "\n",
       "    release_date  production_budget  domestic_gross  worldwide_gross  \n",
       "353   2004-11-05           40000000        13395939         35195939  \n",
       "442   2001-07-20           46000000        93607673        160648493  \n",
       "607   1999-11-12           23000000        18653615         18653615  \n",
       "624   2012-09-14           12000000         7919574         35830713  \n",
       "686   2013-12-25           25000000        37738810         50738810  "
      ]
     },
     "execution_count": 14,
     "metadata": {},
     "output_type": "execute_result"
    }
   ],
   "source": [
    "# instead, use pandas.DataFrame.isin:\n",
    "df[df.actor.isin(actor_list)].head()"
   ]
  },
  {
   "cell_type": "markdown",
   "metadata": {},
   "source": [
    "# pd.to_numeric()\n",
    "\n",
    "Converts a series, array, or dataframe to a numeric datatype."
   ]
  },
  {
   "cell_type": "code",
   "execution_count": 15,
   "metadata": {
    "collapsed": false
   },
   "outputs": [
    {
     "data": {
      "text/html": [
       "<div>\n",
       "<table border=\"1\" class=\"dataframe\">\n",
       "  <thead>\n",
       "    <tr style=\"text-align: right;\">\n",
       "      <th></th>\n",
       "      <th>a</th>\n",
       "      <th>b</th>\n",
       "    </tr>\n",
       "  </thead>\n",
       "  <tbody>\n",
       "    <tr>\n",
       "      <th>0</th>\n",
       "      <td>2</td>\n",
       "      <td>6</td>\n",
       "    </tr>\n",
       "    <tr>\n",
       "      <th>1</th>\n",
       "      <td>0</td>\n",
       "      <td>1</td>\n",
       "    </tr>\n",
       "    <tr>\n",
       "      <th>2</th>\n",
       "      <td>4</td>\n",
       "      <td>8</td>\n",
       "    </tr>\n",
       "    <tr>\n",
       "      <th>3</th>\n",
       "      <td>9</td>\n",
       "      <td>5</td>\n",
       "    </tr>\n",
       "    <tr>\n",
       "      <th>4</th>\n",
       "      <td>2</td>\n",
       "      <td>7</td>\n",
       "    </tr>\n",
       "    <tr>\n",
       "      <th>5</th>\n",
       "      <td>0</td>\n",
       "      <td>0</td>\n",
       "    </tr>\n",
       "    <tr>\n",
       "      <th>6</th>\n",
       "      <td>4</td>\n",
       "      <td>0</td>\n",
       "    </tr>\n",
       "    <tr>\n",
       "      <th>7</th>\n",
       "      <td>7</td>\n",
       "      <td>9</td>\n",
       "    </tr>\n",
       "    <tr>\n",
       "      <th>8</th>\n",
       "      <td>9</td>\n",
       "      <td>6</td>\n",
       "    </tr>\n",
       "    <tr>\n",
       "      <th>9</th>\n",
       "      <td>5</td>\n",
       "      <td>3</td>\n",
       "    </tr>\n",
       "  </tbody>\n",
       "</table>\n",
       "</div>"
      ],
      "text/plain": [
       "   a  b\n",
       "0  2  6\n",
       "1  0  1\n",
       "2  4  8\n",
       "3  9  5\n",
       "4  2  7\n",
       "5  0  0\n",
       "6  4  0\n",
       "7  7  9\n",
       "8  9  6\n",
       "9  5  3"
      ]
     },
     "execution_count": 15,
     "metadata": {},
     "output_type": "execute_result"
    }
   ],
   "source": [
    "# example DataFrame of numbers-as-strings\n",
    "num_example = pd.DataFrame(data=zip(list('2049204795'),list('6185700963')), columns=['a','b'])\n",
    "num_example"
   ]
  },
  {
   "cell_type": "code",
   "execution_count": 16,
   "metadata": {
    "collapsed": false
   },
   "outputs": [
    {
     "data": {
      "text/plain": [
       "0    26\n",
       "1    01\n",
       "2    48\n",
       "3    95\n",
       "4    27\n",
       "5    00\n",
       "6    40\n",
       "7    79\n",
       "8    96\n",
       "9    53\n",
       "dtype: object"
      ]
     },
     "execution_count": 16,
     "metadata": {},
     "output_type": "execute_result"
    }
   ],
   "source": [
    "# if you add columns a and b, they're just concatenated together because they're strings!\n",
    "num_example.a + num_example.b"
   ]
  },
  {
   "cell_type": "code",
   "execution_count": 17,
   "metadata": {
    "collapsed": false
   },
   "outputs": [
    {
     "data": {
      "text/html": [
       "<div>\n",
       "<table border=\"1\" class=\"dataframe\">\n",
       "  <thead>\n",
       "    <tr style=\"text-align: right;\">\n",
       "      <th></th>\n",
       "      <th>a</th>\n",
       "      <th>b</th>\n",
       "    </tr>\n",
       "  </thead>\n",
       "  <tbody>\n",
       "    <tr>\n",
       "      <th>0</th>\n",
       "      <td>2</td>\n",
       "      <td>6</td>\n",
       "    </tr>\n",
       "    <tr>\n",
       "      <th>1</th>\n",
       "      <td>0</td>\n",
       "      <td>1</td>\n",
       "    </tr>\n",
       "    <tr>\n",
       "      <th>2</th>\n",
       "      <td>4</td>\n",
       "      <td>8</td>\n",
       "    </tr>\n",
       "    <tr>\n",
       "      <th>3</th>\n",
       "      <td>9</td>\n",
       "      <td>5</td>\n",
       "    </tr>\n",
       "    <tr>\n",
       "      <th>4</th>\n",
       "      <td>2</td>\n",
       "      <td>7</td>\n",
       "    </tr>\n",
       "    <tr>\n",
       "      <th>5</th>\n",
       "      <td>0</td>\n",
       "      <td>0</td>\n",
       "    </tr>\n",
       "    <tr>\n",
       "      <th>6</th>\n",
       "      <td>4</td>\n",
       "      <td>0</td>\n",
       "    </tr>\n",
       "    <tr>\n",
       "      <th>7</th>\n",
       "      <td>7</td>\n",
       "      <td>9</td>\n",
       "    </tr>\n",
       "    <tr>\n",
       "      <th>8</th>\n",
       "      <td>9</td>\n",
       "      <td>6</td>\n",
       "    </tr>\n",
       "    <tr>\n",
       "      <th>9</th>\n",
       "      <td>5</td>\n",
       "      <td>3</td>\n",
       "    </tr>\n",
       "  </tbody>\n",
       "</table>\n",
       "</div>"
      ],
      "text/plain": [
       "   a  b\n",
       "0  2  6\n",
       "1  0  1\n",
       "2  4  8\n",
       "3  9  5\n",
       "4  2  7\n",
       "5  0  0\n",
       "6  4  0\n",
       "7  7  9\n",
       "8  9  6\n",
       "9  5  3"
      ]
     },
     "execution_count": 17,
     "metadata": {},
     "output_type": "execute_result"
    }
   ],
   "source": [
    "# apply pd.to_numeric across the whole dataframe to convert everything to numeric values\n",
    "num_numeric = num_example.apply(pd.to_numeric)\n",
    "num_numeric"
   ]
  },
  {
   "cell_type": "code",
   "execution_count": 18,
   "metadata": {
    "collapsed": false
   },
   "outputs": [
    {
     "data": {
      "text/plain": [
       "0     8\n",
       "1     1\n",
       "2    12\n",
       "3    14\n",
       "4     9\n",
       "5     0\n",
       "6     4\n",
       "7    16\n",
       "8    15\n",
       "9     8\n",
       "dtype: int64"
      ]
     },
     "execution_count": 18,
     "metadata": {},
     "output_type": "execute_result"
    }
   ],
   "source": [
    "# now adding the columns actually gives you the sum\n",
    "num_numeric.a + num_numeric.b"
   ]
  },
  {
   "cell_type": "code",
   "execution_count": 19,
   "metadata": {
    "collapsed": false
   },
   "outputs": [
    {
     "name": "stdout",
     "output_type": "stream",
     "text": [
      "False \n",
      "   a  b\n",
      "3  9  5\n",
      "7  7  9\n",
      "8  9  6\n",
      "9  5  3\n",
      "* * *\n",
      "True \n",
      "   a  b\n",
      "0  2  6\n",
      "1  0  1\n",
      "2  4  8\n",
      "4  2  7\n",
      "5  0  0\n",
      "6  4  0\n",
      "* * *\n"
     ]
    }
   ],
   "source": [
    "# this example illustrates 2 things:\n",
    "# 1) grouping based on a conditional statement (is an even number)\n",
    "# 2) iterating through groups in a groupby\n",
    "for name, group in num_numeric.groupby(num_numeric.a%2==0):\n",
    "    print name, '\\n', group\n",
    "    print '* * *'"
   ]
  },
  {
   "cell_type": "markdown",
   "metadata": {},
   "source": [
    "# Working with Timestamps"
   ]
  },
  {
   "cell_type": "code",
   "execution_count": 20,
   "metadata": {
    "collapsed": false
   },
   "outputs": [
    {
     "data": {
      "text/html": [
       "<div>\n",
       "<table border=\"1\" class=\"dataframe\">\n",
       "  <thead>\n",
       "    <tr style=\"text-align: right;\">\n",
       "      <th></th>\n",
       "      <th>title</th>\n",
       "      <th>actor</th>\n",
       "      <th>rank</th>\n",
       "      <th>studio</th>\n",
       "      <th>bday</th>\n",
       "      <th>male</th>\n",
       "      <th>release_date</th>\n",
       "      <th>production_budget</th>\n",
       "      <th>domestic_gross</th>\n",
       "      <th>worldwide_gross</th>\n",
       "    </tr>\n",
       "  </thead>\n",
       "  <tbody>\n",
       "    <tr>\n",
       "      <th>0</th>\n",
       "      <td>(500) Days of Summer</td>\n",
       "      <td>Chloe Moretz</td>\n",
       "      <td>11</td>\n",
       "      <td>FoxS</td>\n",
       "      <td>1997-02-10</td>\n",
       "      <td>0</td>\n",
       "      <td>2009-07-17</td>\n",
       "      <td>7500000</td>\n",
       "      <td>32391374</td>\n",
       "      <td>59101642</td>\n",
       "    </tr>\n",
       "    <tr>\n",
       "      <th>1</th>\n",
       "      <td>(500) Days of Summer</td>\n",
       "      <td>Clark Gregg</td>\n",
       "      <td>7</td>\n",
       "      <td>FoxS</td>\n",
       "      <td>1962-04-02</td>\n",
       "      <td>1</td>\n",
       "      <td>2009-07-17</td>\n",
       "      <td>7500000</td>\n",
       "      <td>32391374</td>\n",
       "      <td>59101642</td>\n",
       "    </tr>\n",
       "    <tr>\n",
       "      <th>2</th>\n",
       "      <td>(500) Days of Summer</td>\n",
       "      <td>Minka Kelly</td>\n",
       "      <td>-</td>\n",
       "      <td>FoxS</td>\n",
       "      <td>1980-06-24</td>\n",
       "      <td>0</td>\n",
       "      <td>2009-07-17</td>\n",
       "      <td>7500000</td>\n",
       "      <td>32391374</td>\n",
       "      <td>59101642</td>\n",
       "    </tr>\n",
       "    <tr>\n",
       "      <th>3</th>\n",
       "      <td>(500) Days of Summer</td>\n",
       "      <td>Zooey Deschanel</td>\n",
       "      <td>10</td>\n",
       "      <td>FoxS</td>\n",
       "      <td>1980-01-17</td>\n",
       "      <td>0</td>\n",
       "      <td>2009-07-17</td>\n",
       "      <td>7500000</td>\n",
       "      <td>32391374</td>\n",
       "      <td>59101642</td>\n",
       "    </tr>\n",
       "    <tr>\n",
       "      <th>4</th>\n",
       "      <td>10 Cloverfield Lane</td>\n",
       "      <td>Mary Elizabeth Winstead</td>\n",
       "      <td>4</td>\n",
       "      <td>Par.</td>\n",
       "      <td>1984-11-28</td>\n",
       "      <td>0</td>\n",
       "      <td>2016-03-11</td>\n",
       "      <td>5000000</td>\n",
       "      <td>69793284</td>\n",
       "      <td>101493284</td>\n",
       "    </tr>\n",
       "  </tbody>\n",
       "</table>\n",
       "</div>"
      ],
      "text/plain": [
       "                  title                    actor rank studio        bday  \\\n",
       "0  (500) Days of Summer             Chloe Moretz   11   FoxS  1997-02-10   \n",
       "1  (500) Days of Summer              Clark Gregg    7   FoxS  1962-04-02   \n",
       "2  (500) Days of Summer              Minka Kelly    -   FoxS  1980-06-24   \n",
       "3  (500) Days of Summer          Zooey Deschanel   10   FoxS  1980-01-17   \n",
       "4   10 Cloverfield Lane  Mary Elizabeth Winstead    4   Par.  1984-11-28   \n",
       "\n",
       "   male release_date  production_budget  domestic_gross  worldwide_gross  \n",
       "0     0   2009-07-17            7500000        32391374         59101642  \n",
       "1     1   2009-07-17            7500000        32391374         59101642  \n",
       "2     0   2009-07-17            7500000        32391374         59101642  \n",
       "3     0   2009-07-17            7500000        32391374         59101642  \n",
       "4     0   2016-03-11            5000000        69793284        101493284  "
      ]
     },
     "execution_count": 20,
     "metadata": {},
     "output_type": "execute_result"
    }
   ],
   "source": [
    "# recall what the actor info dataframe looks like\n",
    "df.head()"
   ]
  },
  {
   "cell_type": "code",
   "execution_count": 21,
   "metadata": {
    "collapsed": false
   },
   "outputs": [
    {
     "data": {
      "text/plain": [
       "dtype('O')"
      ]
     },
     "execution_count": 21,
     "metadata": {},
     "output_type": "execute_result"
    }
   ],
   "source": [
    "# what is the data type (dtype) of the bday column?\n",
    "df.bday.dtype"
   ]
  },
  {
   "cell_type": "code",
   "execution_count": 22,
   "metadata": {
    "collapsed": false
   },
   "outputs": [
    {
     "data": {
      "text/plain": [
       "'1997-02-10'"
      ]
     },
     "execution_count": 22,
     "metadata": {},
     "output_type": "execute_result"
    }
   ],
   "source": [
    "# we can also print an element of the column to look at it\n",
    "df.bday[0]"
   ]
  },
  {
   "cell_type": "code",
   "execution_count": 23,
   "metadata": {
    "collapsed": false
   },
   "outputs": [
    {
     "data": {
      "text/plain": [
       "str"
      ]
     },
     "execution_count": 23,
     "metadata": {},
     "output_type": "execute_result"
    }
   ],
   "source": [
    "# we can also check the type of the first element\n",
    "type(df.bday[0])"
   ]
  },
  {
   "cell_type": "markdown",
   "metadata": {},
   "source": [
    "## pd.to_datetime"
   ]
  },
  {
   "cell_type": "code",
   "execution_count": 24,
   "metadata": {
    "collapsed": true
   },
   "outputs": [],
   "source": [
    "# convert the columns of date-time strings to pandas Timestamp objects (similar to to_numeric)\n",
    "# we don't use .apply here because we only want to change these 2 specified columns\n",
    "for datetime_col in ['bday','release_date']:\n",
    "    df[datetime_col] = pd.to_datetime(df[datetime_col])    "
   ]
  },
  {
   "cell_type": "code",
   "execution_count": 25,
   "metadata": {
    "collapsed": false
   },
   "outputs": [
    {
     "data": {
      "text/plain": [
       "dtype('<M8[ns]')"
      ]
     },
     "execution_count": 25,
     "metadata": {},
     "output_type": "execute_result"
    }
   ],
   "source": [
    "df.bday.dtype"
   ]
  },
  {
   "cell_type": "code",
   "execution_count": 26,
   "metadata": {
    "collapsed": false
   },
   "outputs": [
    {
     "data": {
      "text/plain": [
       "pandas.tslib.Timestamp"
      ]
     },
     "execution_count": 26,
     "metadata": {},
     "output_type": "execute_result"
    }
   ],
   "source": [
    "type(df.bday[0])"
   ]
  },
  {
   "cell_type": "markdown",
   "metadata": {},
   "source": [
    "## Instant conversion to day/month/year with \n",
    "### `pd.Series.dt.<day/month/year/second/etc>`"
   ]
  },
  {
   "cell_type": "code",
   "execution_count": 27,
   "metadata": {
    "collapsed": false
   },
   "outputs": [
    {
     "name": "stdout",
     "output_type": "stream",
     "text": [
      "years [1997 1962 1980 1984 1947 1973 1974 1976 1959 1977 1963 1983 1966 1967 1978\n",
      " 1979 1948 1975 1955 1943 1972 1969 1985 1987 1952 1954 1971 1946 1961 1981\n",
      " 1960 1968 1970 1982 1964 1958 1989 1986 1996 1951 1992 1942 1965 1953 1940\n",
      " 1929 1950 1937 1933 1936 1930 1931 1934 1938 1956 1957 1939 1949 1944 1990\n",
      " 1998 1926 1988 1991 2003 1935 1924 1945 1928 1994 1999 1875 1993 1925 1922\n",
      " 1995]\n"
     ]
    }
   ],
   "source": [
    "print 'years', df.bday.dt.year.unique()"
   ]
  },
  {
   "cell_type": "code",
   "execution_count": 28,
   "metadata": {
    "collapsed": false
   },
   "outputs": [],
   "source": [
    "# this doesn't work.\n",
    "# df[df.bday > 1995]"
   ]
  },
  {
   "cell_type": "code",
   "execution_count": 29,
   "metadata": {
    "collapsed": false
   },
   "outputs": [
    {
     "data": {
      "text/html": [
       "<div>\n",
       "<table border=\"1\" class=\"dataframe\">\n",
       "  <thead>\n",
       "    <tr style=\"text-align: right;\">\n",
       "      <th></th>\n",
       "      <th>title</th>\n",
       "      <th>actor</th>\n",
       "      <th>rank</th>\n",
       "      <th>studio</th>\n",
       "      <th>bday</th>\n",
       "      <th>male</th>\n",
       "      <th>release_date</th>\n",
       "      <th>production_budget</th>\n",
       "      <th>domestic_gross</th>\n",
       "      <th>worldwide_gross</th>\n",
       "    </tr>\n",
       "  </thead>\n",
       "  <tbody>\n",
       "    <tr>\n",
       "      <th>0</th>\n",
       "      <td>(500) Days of Summer</td>\n",
       "      <td>Chloe Moretz</td>\n",
       "      <td>11</td>\n",
       "      <td>FoxS</td>\n",
       "      <td>1997-02-10</td>\n",
       "      <td>0</td>\n",
       "      <td>2009-07-17</td>\n",
       "      <td>7500000</td>\n",
       "      <td>32391374</td>\n",
       "      <td>59101642</td>\n",
       "    </tr>\n",
       "    <tr>\n",
       "      <th>85</th>\n",
       "      <td>3 Days to Kill</td>\n",
       "      <td>Hailee Steinfeld</td>\n",
       "      <td>4</td>\n",
       "      <td>Rela.</td>\n",
       "      <td>1996-12-11</td>\n",
       "      <td>0</td>\n",
       "      <td>2014-02-21</td>\n",
       "      <td>28000000</td>\n",
       "      <td>30697999</td>\n",
       "      <td>38959900</td>\n",
       "    </tr>\n",
       "    <tr>\n",
       "      <th>307</th>\n",
       "      <td>After Earth</td>\n",
       "      <td>Jaden Smith</td>\n",
       "      <td>4</td>\n",
       "      <td>Sony</td>\n",
       "      <td>1998-07-08</td>\n",
       "      <td>1</td>\n",
       "      <td>2013-05-31</td>\n",
       "      <td>130000000</td>\n",
       "      <td>60522097</td>\n",
       "      <td>251499665</td>\n",
       "    </tr>\n",
       "    <tr>\n",
       "      <th>345</th>\n",
       "      <td>Alexander and the Terrible, Horrible, No Good,...</td>\n",
       "      <td>Bella Thorne</td>\n",
       "      <td>2</td>\n",
       "      <td>BV</td>\n",
       "      <td>1997-10-08</td>\n",
       "      <td>0</td>\n",
       "      <td>2014-10-10</td>\n",
       "      <td>28000000</td>\n",
       "      <td>66954149</td>\n",
       "      <td>101379287</td>\n",
       "    </tr>\n",
       "    <tr>\n",
       "      <th>426</th>\n",
       "      <td>Alvin and the Chipmunks: The Road Chip</td>\n",
       "      <td>Bella Thorne</td>\n",
       "      <td>1</td>\n",
       "      <td>Fox</td>\n",
       "      <td>1997-10-08</td>\n",
       "      <td>0</td>\n",
       "      <td>2015-12-18</td>\n",
       "      <td>90000000</td>\n",
       "      <td>85825210</td>\n",
       "      <td>233388254</td>\n",
       "    </tr>\n",
       "  </tbody>\n",
       "</table>\n",
       "</div>"
      ],
      "text/plain": [
       "                                                 title             actor rank  \\\n",
       "0                                 (500) Days of Summer      Chloe Moretz   11   \n",
       "85                                      3 Days to Kill  Hailee Steinfeld    4   \n",
       "307                                        After Earth       Jaden Smith    4   \n",
       "345  Alexander and the Terrible, Horrible, No Good,...      Bella Thorne    2   \n",
       "426             Alvin and the Chipmunks: The Road Chip      Bella Thorne    1   \n",
       "\n",
       "    studio       bday  male release_date  production_budget  domestic_gross  \\\n",
       "0     FoxS 1997-02-10     0   2009-07-17            7500000        32391374   \n",
       "85   Rela. 1996-12-11     0   2014-02-21           28000000        30697999   \n",
       "307   Sony 1998-07-08     1   2013-05-31          130000000        60522097   \n",
       "345     BV 1997-10-08     0   2014-10-10           28000000        66954149   \n",
       "426    Fox 1997-10-08     0   2015-12-18           90000000        85825210   \n",
       "\n",
       "     worldwide_gross  \n",
       "0           59101642  \n",
       "85          38959900  \n",
       "307        251499665  \n",
       "345        101379287  \n",
       "426        233388254  "
      ]
     },
     "execution_count": 29,
     "metadata": {},
     "output_type": "execute_result"
    }
   ],
   "source": [
    "# instead you could compare to a Timestamp or other datetime object\n",
    "df[df.bday > pd.to_datetime('1-1-1995')].head()"
   ]
  },
  {
   "cell_type": "code",
   "execution_count": 30,
   "metadata": {
    "collapsed": false
   },
   "outputs": [
    {
     "data": {
      "text/html": [
       "<div>\n",
       "<table border=\"1\" class=\"dataframe\">\n",
       "  <thead>\n",
       "    <tr style=\"text-align: right;\">\n",
       "      <th></th>\n",
       "      <th>title</th>\n",
       "      <th>actor</th>\n",
       "      <th>rank</th>\n",
       "      <th>studio</th>\n",
       "      <th>bday</th>\n",
       "      <th>male</th>\n",
       "      <th>release_date</th>\n",
       "      <th>production_budget</th>\n",
       "      <th>domestic_gross</th>\n",
       "      <th>worldwide_gross</th>\n",
       "    </tr>\n",
       "  </thead>\n",
       "  <tbody>\n",
       "    <tr>\n",
       "      <th>0</th>\n",
       "      <td>(500) Days of Summer</td>\n",
       "      <td>Chloe Moretz</td>\n",
       "      <td>11</td>\n",
       "      <td>FoxS</td>\n",
       "      <td>1997-02-10</td>\n",
       "      <td>0</td>\n",
       "      <td>2009-07-17</td>\n",
       "      <td>7500000</td>\n",
       "      <td>32391374</td>\n",
       "      <td>59101642</td>\n",
       "    </tr>\n",
       "    <tr>\n",
       "      <th>85</th>\n",
       "      <td>3 Days to Kill</td>\n",
       "      <td>Hailee Steinfeld</td>\n",
       "      <td>4</td>\n",
       "      <td>Rela.</td>\n",
       "      <td>1996-12-11</td>\n",
       "      <td>0</td>\n",
       "      <td>2014-02-21</td>\n",
       "      <td>28000000</td>\n",
       "      <td>30697999</td>\n",
       "      <td>38959900</td>\n",
       "    </tr>\n",
       "    <tr>\n",
       "      <th>307</th>\n",
       "      <td>After Earth</td>\n",
       "      <td>Jaden Smith</td>\n",
       "      <td>4</td>\n",
       "      <td>Sony</td>\n",
       "      <td>1998-07-08</td>\n",
       "      <td>1</td>\n",
       "      <td>2013-05-31</td>\n",
       "      <td>130000000</td>\n",
       "      <td>60522097</td>\n",
       "      <td>251499665</td>\n",
       "    </tr>\n",
       "    <tr>\n",
       "      <th>345</th>\n",
       "      <td>Alexander and the Terrible, Horrible, No Good,...</td>\n",
       "      <td>Bella Thorne</td>\n",
       "      <td>2</td>\n",
       "      <td>BV</td>\n",
       "      <td>1997-10-08</td>\n",
       "      <td>0</td>\n",
       "      <td>2014-10-10</td>\n",
       "      <td>28000000</td>\n",
       "      <td>66954149</td>\n",
       "      <td>101379287</td>\n",
       "    </tr>\n",
       "    <tr>\n",
       "      <th>426</th>\n",
       "      <td>Alvin and the Chipmunks: The Road Chip</td>\n",
       "      <td>Bella Thorne</td>\n",
       "      <td>1</td>\n",
       "      <td>Fox</td>\n",
       "      <td>1997-10-08</td>\n",
       "      <td>0</td>\n",
       "      <td>2015-12-18</td>\n",
       "      <td>90000000</td>\n",
       "      <td>85825210</td>\n",
       "      <td>233388254</td>\n",
       "    </tr>\n",
       "  </tbody>\n",
       "</table>\n",
       "</div>"
      ],
      "text/plain": [
       "                                                 title             actor rank  \\\n",
       "0                                 (500) Days of Summer      Chloe Moretz   11   \n",
       "85                                      3 Days to Kill  Hailee Steinfeld    4   \n",
       "307                                        After Earth       Jaden Smith    4   \n",
       "345  Alexander and the Terrible, Horrible, No Good,...      Bella Thorne    2   \n",
       "426             Alvin and the Chipmunks: The Road Chip      Bella Thorne    1   \n",
       "\n",
       "    studio       bday  male release_date  production_budget  domestic_gross  \\\n",
       "0     FoxS 1997-02-10     0   2009-07-17            7500000        32391374   \n",
       "85   Rela. 1996-12-11     0   2014-02-21           28000000        30697999   \n",
       "307   Sony 1998-07-08     1   2013-05-31          130000000        60522097   \n",
       "345     BV 1997-10-08     0   2014-10-10           28000000        66954149   \n",
       "426    Fox 1997-10-08     0   2015-12-18           90000000        85825210   \n",
       "\n",
       "     worldwide_gross  \n",
       "0           59101642  \n",
       "85          38959900  \n",
       "307        251499665  \n",
       "345        101379287  \n",
       "426        233388254  "
      ]
     },
     "execution_count": 30,
     "metadata": {},
     "output_type": "execute_result"
    }
   ],
   "source": [
    "# or, use the .dt syntax:\n",
    "df[df.bday.dt.year > 1995].head()"
   ]
  },
  {
   "cell_type": "code",
   "execution_count": 31,
   "metadata": {
    "collapsed": false
   },
   "outputs": [],
   "source": [
    "# Pitfall!\n",
    "# when you want to select using multiple conditions, watch out for this pandas pitfall\n",
    "# (this doesn't work:)\n",
    "# df[2000 > df.bday.dt.year > 1995].head()"
   ]
  },
  {
   "cell_type": "code",
   "execution_count": 32,
   "metadata": {
    "collapsed": false
   },
   "outputs": [],
   "source": [
    "# Pitfall!\n",
    "# Instead, use the bitwise and (&) operator. However...\n",
    "# (this doesn't work either):\n",
    "# df[2000 > df.bday.dt.year & df.bday.dt.year > 1995].head()"
   ]
  },
  {
   "cell_type": "markdown",
   "metadata": {},
   "source": [
    "### Since the '`&`' operator has really high precedence in order of operations, be sure to enclose each condition in *parentheses*.\n",
    "\n",
    "Eg: `2000 > df.bday.dt.year & df.bday.dt.year > 1995` is evaluated the same as \n",
    "\n",
    "`2000 > (df.bday.dt.year & df.bday.dt.year) > 1995`\n"
   ]
  },
  {
   "cell_type": "code",
   "execution_count": 33,
   "metadata": {
    "collapsed": false
   },
   "outputs": [
    {
     "data": {
      "text/html": [
       "<div>\n",
       "<table border=\"1\" class=\"dataframe\">\n",
       "  <thead>\n",
       "    <tr style=\"text-align: right;\">\n",
       "      <th></th>\n",
       "      <th>title</th>\n",
       "      <th>actor</th>\n",
       "      <th>rank</th>\n",
       "      <th>studio</th>\n",
       "      <th>bday</th>\n",
       "      <th>male</th>\n",
       "      <th>release_date</th>\n",
       "      <th>production_budget</th>\n",
       "      <th>domestic_gross</th>\n",
       "      <th>worldwide_gross</th>\n",
       "    </tr>\n",
       "  </thead>\n",
       "  <tbody>\n",
       "    <tr>\n",
       "      <th>0</th>\n",
       "      <td>(500) Days of Summer</td>\n",
       "      <td>Chloe Moretz</td>\n",
       "      <td>11</td>\n",
       "      <td>FoxS</td>\n",
       "      <td>1997-02-10</td>\n",
       "      <td>0</td>\n",
       "      <td>2009-07-17</td>\n",
       "      <td>7500000</td>\n",
       "      <td>32391374</td>\n",
       "      <td>59101642</td>\n",
       "    </tr>\n",
       "    <tr>\n",
       "      <th>85</th>\n",
       "      <td>3 Days to Kill</td>\n",
       "      <td>Hailee Steinfeld</td>\n",
       "      <td>4</td>\n",
       "      <td>Rela.</td>\n",
       "      <td>1996-12-11</td>\n",
       "      <td>0</td>\n",
       "      <td>2014-02-21</td>\n",
       "      <td>28000000</td>\n",
       "      <td>30697999</td>\n",
       "      <td>38959900</td>\n",
       "    </tr>\n",
       "    <tr>\n",
       "      <th>307</th>\n",
       "      <td>After Earth</td>\n",
       "      <td>Jaden Smith</td>\n",
       "      <td>4</td>\n",
       "      <td>Sony</td>\n",
       "      <td>1998-07-08</td>\n",
       "      <td>1</td>\n",
       "      <td>2013-05-31</td>\n",
       "      <td>130000000</td>\n",
       "      <td>60522097</td>\n",
       "      <td>251499665</td>\n",
       "    </tr>\n",
       "    <tr>\n",
       "      <th>345</th>\n",
       "      <td>Alexander and the Terrible, Horrible, No Good,...</td>\n",
       "      <td>Bella Thorne</td>\n",
       "      <td>2</td>\n",
       "      <td>BV</td>\n",
       "      <td>1997-10-08</td>\n",
       "      <td>0</td>\n",
       "      <td>2014-10-10</td>\n",
       "      <td>28000000</td>\n",
       "      <td>66954149</td>\n",
       "      <td>101379287</td>\n",
       "    </tr>\n",
       "    <tr>\n",
       "      <th>426</th>\n",
       "      <td>Alvin and the Chipmunks: The Road Chip</td>\n",
       "      <td>Bella Thorne</td>\n",
       "      <td>1</td>\n",
       "      <td>Fox</td>\n",
       "      <td>1997-10-08</td>\n",
       "      <td>0</td>\n",
       "      <td>2015-12-18</td>\n",
       "      <td>90000000</td>\n",
       "      <td>85825210</td>\n",
       "      <td>233388254</td>\n",
       "    </tr>\n",
       "  </tbody>\n",
       "</table>\n",
       "</div>"
      ],
      "text/plain": [
       "                                                 title             actor rank  \\\n",
       "0                                 (500) Days of Summer      Chloe Moretz   11   \n",
       "85                                      3 Days to Kill  Hailee Steinfeld    4   \n",
       "307                                        After Earth       Jaden Smith    4   \n",
       "345  Alexander and the Terrible, Horrible, No Good,...      Bella Thorne    2   \n",
       "426             Alvin and the Chipmunks: The Road Chip      Bella Thorne    1   \n",
       "\n",
       "    studio       bday  male release_date  production_budget  domestic_gross  \\\n",
       "0     FoxS 1997-02-10     0   2009-07-17            7500000        32391374   \n",
       "85   Rela. 1996-12-11     0   2014-02-21           28000000        30697999   \n",
       "307   Sony 1998-07-08     1   2013-05-31          130000000        60522097   \n",
       "345     BV 1997-10-08     0   2014-10-10           28000000        66954149   \n",
       "426    Fox 1997-10-08     0   2015-12-18           90000000        85825210   \n",
       "\n",
       "     worldwide_gross  \n",
       "0           59101642  \n",
       "85          38959900  \n",
       "307        251499665  \n",
       "345        101379287  \n",
       "426        233388254  "
      ]
     },
     "execution_count": 33,
     "metadata": {},
     "output_type": "execute_result"
    }
   ],
   "source": [
    "# select birthdays between 1995 and 2000, non-inclusive\n",
    "df[(2000 > df.bday.dt.year) & (df.bday.dt.year > 1995)].head()"
   ]
  },
  {
   "cell_type": "code",
   "execution_count": 34,
   "metadata": {
    "collapsed": false
   },
   "outputs": [
    {
     "data": {
      "text/html": [
       "<div>\n",
       "<table border=\"1\" class=\"dataframe\">\n",
       "  <thead>\n",
       "    <tr style=\"text-align: right;\">\n",
       "      <th></th>\n",
       "      <th>title</th>\n",
       "      <th>actor</th>\n",
       "      <th>rank</th>\n",
       "      <th>studio</th>\n",
       "      <th>bday</th>\n",
       "      <th>male</th>\n",
       "      <th>release_date</th>\n",
       "      <th>production_budget</th>\n",
       "      <th>domestic_gross</th>\n",
       "      <th>worldwide_gross</th>\n",
       "      <th>release_month</th>\n",
       "    </tr>\n",
       "  </thead>\n",
       "  <tbody>\n",
       "    <tr>\n",
       "      <th>0</th>\n",
       "      <td>(500) Days of Summer</td>\n",
       "      <td>Chloe Moretz</td>\n",
       "      <td>11</td>\n",
       "      <td>FoxS</td>\n",
       "      <td>1997-02-10</td>\n",
       "      <td>0</td>\n",
       "      <td>2009-07-17</td>\n",
       "      <td>7500000</td>\n",
       "      <td>32391374</td>\n",
       "      <td>59101642</td>\n",
       "      <td>7</td>\n",
       "    </tr>\n",
       "    <tr>\n",
       "      <th>1</th>\n",
       "      <td>(500) Days of Summer</td>\n",
       "      <td>Clark Gregg</td>\n",
       "      <td>7</td>\n",
       "      <td>FoxS</td>\n",
       "      <td>1962-04-02</td>\n",
       "      <td>1</td>\n",
       "      <td>2009-07-17</td>\n",
       "      <td>7500000</td>\n",
       "      <td>32391374</td>\n",
       "      <td>59101642</td>\n",
       "      <td>7</td>\n",
       "    </tr>\n",
       "    <tr>\n",
       "      <th>2</th>\n",
       "      <td>(500) Days of Summer</td>\n",
       "      <td>Minka Kelly</td>\n",
       "      <td>-</td>\n",
       "      <td>FoxS</td>\n",
       "      <td>1980-06-24</td>\n",
       "      <td>0</td>\n",
       "      <td>2009-07-17</td>\n",
       "      <td>7500000</td>\n",
       "      <td>32391374</td>\n",
       "      <td>59101642</td>\n",
       "      <td>7</td>\n",
       "    </tr>\n",
       "    <tr>\n",
       "      <th>3</th>\n",
       "      <td>(500) Days of Summer</td>\n",
       "      <td>Zooey Deschanel</td>\n",
       "      <td>10</td>\n",
       "      <td>FoxS</td>\n",
       "      <td>1980-01-17</td>\n",
       "      <td>0</td>\n",
       "      <td>2009-07-17</td>\n",
       "      <td>7500000</td>\n",
       "      <td>32391374</td>\n",
       "      <td>59101642</td>\n",
       "      <td>7</td>\n",
       "    </tr>\n",
       "    <tr>\n",
       "      <th>4</th>\n",
       "      <td>10 Cloverfield Lane</td>\n",
       "      <td>Mary Elizabeth Winstead</td>\n",
       "      <td>4</td>\n",
       "      <td>Par.</td>\n",
       "      <td>1984-11-28</td>\n",
       "      <td>0</td>\n",
       "      <td>2016-03-11</td>\n",
       "      <td>5000000</td>\n",
       "      <td>69793284</td>\n",
       "      <td>101493284</td>\n",
       "      <td>3</td>\n",
       "    </tr>\n",
       "  </tbody>\n",
       "</table>\n",
       "</div>"
      ],
      "text/plain": [
       "                  title                    actor rank studio       bday  male  \\\n",
       "0  (500) Days of Summer             Chloe Moretz   11   FoxS 1997-02-10     0   \n",
       "1  (500) Days of Summer              Clark Gregg    7   FoxS 1962-04-02     1   \n",
       "2  (500) Days of Summer              Minka Kelly    -   FoxS 1980-06-24     0   \n",
       "3  (500) Days of Summer          Zooey Deschanel   10   FoxS 1980-01-17     0   \n",
       "4   10 Cloverfield Lane  Mary Elizabeth Winstead    4   Par. 1984-11-28     0   \n",
       "\n",
       "  release_date  production_budget  domestic_gross  worldwide_gross  \\\n",
       "0   2009-07-17            7500000        32391374         59101642   \n",
       "1   2009-07-17            7500000        32391374         59101642   \n",
       "2   2009-07-17            7500000        32391374         59101642   \n",
       "3   2009-07-17            7500000        32391374         59101642   \n",
       "4   2016-03-11            5000000        69793284        101493284   \n",
       "\n",
       "   release_month  \n",
       "0              7  \n",
       "1              7  \n",
       "2              7  \n",
       "3              7  \n",
       "4              3  "
      ]
     },
     "execution_count": 34,
     "metadata": {},
     "output_type": "execute_result"
    }
   ],
   "source": [
    "# example of .dt.month\n",
    "# Note: you rarely need to add columns like this!! You can use .dt directly for a groupby or for a selection\n",
    "df2 = df.copy()\n",
    "df2['release_month'] = df2.release_date.dt.month\n",
    "df2.head()"
   ]
  },
  {
   "cell_type": "code",
   "execution_count": 35,
   "metadata": {
    "collapsed": false
   },
   "outputs": [
    {
     "data": {
      "text/html": [
       "<div>\n",
       "<table border=\"1\" class=\"dataframe\">\n",
       "  <thead>\n",
       "    <tr style=\"text-align: right;\">\n",
       "      <th></th>\n",
       "      <th>male</th>\n",
       "      <th>production_budget</th>\n",
       "      <th>domestic_gross</th>\n",
       "      <th>worldwide_gross</th>\n",
       "    </tr>\n",
       "    <tr>\n",
       "      <th>release_date</th>\n",
       "      <th></th>\n",
       "      <th></th>\n",
       "      <th></th>\n",
       "      <th></th>\n",
       "    </tr>\n",
       "  </thead>\n",
       "  <tbody>\n",
       "    <tr>\n",
       "      <th>1</th>\n",
       "      <td>0.674300</td>\n",
       "      <td>32601526.717557</td>\n",
       "      <td>3.810404e+07</td>\n",
       "      <td>7.400509e+07</td>\n",
       "    </tr>\n",
       "    <tr>\n",
       "      <th>2</th>\n",
       "      <td>0.635417</td>\n",
       "      <td>40666927.083333</td>\n",
       "      <td>4.773956e+07</td>\n",
       "      <td>9.061837e+07</td>\n",
       "    </tr>\n",
       "    <tr>\n",
       "      <th>3</th>\n",
       "      <td>0.664439</td>\n",
       "      <td>49600521.390374</td>\n",
       "      <td>6.042128e+07</td>\n",
       "      <td>1.255552e+08</td>\n",
       "    </tr>\n",
       "    <tr>\n",
       "      <th>4</th>\n",
       "      <td>0.635174</td>\n",
       "      <td>36087732.558140</td>\n",
       "      <td>4.362819e+07</td>\n",
       "      <td>9.773371e+07</td>\n",
       "    </tr>\n",
       "    <tr>\n",
       "      <th>5</th>\n",
       "      <td>0.670471</td>\n",
       "      <td>83474467.295292</td>\n",
       "      <td>1.177966e+08</td>\n",
       "      <td>2.914820e+08</td>\n",
       "    </tr>\n",
       "    <tr>\n",
       "      <th>6</th>\n",
       "      <td>0.693252</td>\n",
       "      <td>71355581.748466</td>\n",
       "      <td>1.056504e+08</td>\n",
       "      <td>2.331871e+08</td>\n",
       "    </tr>\n",
       "    <tr>\n",
       "      <th>7</th>\n",
       "      <td>0.691233</td>\n",
       "      <td>69198609.688691</td>\n",
       "      <td>1.067479e+08</td>\n",
       "      <td>2.508663e+08</td>\n",
       "    </tr>\n",
       "    <tr>\n",
       "      <th>8</th>\n",
       "      <td>0.685897</td>\n",
       "      <td>39495502.685897</td>\n",
       "      <td>5.043031e+07</td>\n",
       "      <td>9.527081e+07</td>\n",
       "    </tr>\n",
       "    <tr>\n",
       "      <th>9</th>\n",
       "      <td>0.646438</td>\n",
       "      <td>30787054.947230</td>\n",
       "      <td>3.375987e+07</td>\n",
       "      <td>6.493184e+07</td>\n",
       "    </tr>\n",
       "    <tr>\n",
       "      <th>10</th>\n",
       "      <td>0.649704</td>\n",
       "      <td>31066014.201183</td>\n",
       "      <td>3.545069e+07</td>\n",
       "      <td>7.204215e+07</td>\n",
       "    </tr>\n",
       "    <tr>\n",
       "      <th>11</th>\n",
       "      <td>0.695270</td>\n",
       "      <td>58577645.927393</td>\n",
       "      <td>8.035767e+07</td>\n",
       "      <td>1.899561e+08</td>\n",
       "    </tr>\n",
       "    <tr>\n",
       "      <th>12</th>\n",
       "      <td>0.667660</td>\n",
       "      <td>53589269.746647</td>\n",
       "      <td>7.840979e+07</td>\n",
       "      <td>1.848689e+08</td>\n",
       "    </tr>\n",
       "  </tbody>\n",
       "</table>\n",
       "</div>"
      ],
      "text/plain": [
       "                  male  production_budget  domestic_gross  worldwide_gross\n",
       "release_date                                                              \n",
       "1             0.674300    32601526.717557    3.810404e+07     7.400509e+07\n",
       "2             0.635417    40666927.083333    4.773956e+07     9.061837e+07\n",
       "3             0.664439    49600521.390374    6.042128e+07     1.255552e+08\n",
       "4             0.635174    36087732.558140    4.362819e+07     9.773371e+07\n",
       "5             0.670471    83474467.295292    1.177966e+08     2.914820e+08\n",
       "6             0.693252    71355581.748466    1.056504e+08     2.331871e+08\n",
       "7             0.691233    69198609.688691    1.067479e+08     2.508663e+08\n",
       "8             0.685897    39495502.685897    5.043031e+07     9.527081e+07\n",
       "9             0.646438    30787054.947230    3.375987e+07     6.493184e+07\n",
       "10            0.649704    31066014.201183    3.545069e+07     7.204215e+07\n",
       "11            0.695270    58577645.927393    8.035767e+07     1.899561e+08\n",
       "12            0.667660    53589269.746647    7.840979e+07     1.848689e+08"
      ]
     },
     "execution_count": 35,
     "metadata": {},
     "output_type": "execute_result"
    }
   ],
   "source": [
    "monthly_mean = df.groupby(df.release_date.dt.month).mean()\n",
    "monthly_mean"
   ]
  },
  {
   "cell_type": "code",
   "execution_count": 36,
   "metadata": {
    "collapsed": false
   },
   "outputs": [
    {
     "data": {
      "text/plain": [
       "<matplotlib.axes._subplots.AxesSubplot at 0x7fbf45bff7d0>"
      ]
     },
     "execution_count": 36,
     "metadata": {},
     "output_type": "execute_result"
    },
    {
     "data": {
      "image/png": "[encoded data removed]",
      "text/plain": [
       "<matplotlib.figure.Figure at 0x7fbf45e45ad0>"
      ]
     },
     "metadata": {},
     "output_type": "display_data"
    }
   ],
   "source": [
    "monthly_mean[['domestic_gross','worldwide_gross']].plot.bar(title='Mean monthly gross')"
   ]
  },
  {
   "cell_type": "code",
   "execution_count": 37,
   "metadata": {
    "collapsed": false
   },
   "outputs": [
    {
     "data": {
      "text/plain": [
       "<matplotlib.axes._subplots.AxesSubplot at 0x7fbf45ac72d0>"
      ]
     },
     "execution_count": 37,
     "metadata": {},
     "output_type": "execute_result"
    },
    {
     "data": {
      "image/png": "[encoded data removed]",
      "text/plain": [
       "<matplotlib.figure.Figure at 0x7fbf45b4dd90>"
      ]
     },
     "metadata": {},
     "output_type": "display_data"
    }
   ],
   "source": [
    "# you don't need to make a new column for a one-off.\n",
    "(monthly_mean.domestic_gross / monthly_mean.worldwide_gross).plot.bar(\n",
    "    title='Mean Domestic/Worldwide Gross Ratio by month')"
   ]
  },
  {
   "cell_type": "markdown",
   "metadata": {},
   "source": [
    "## But that's gross, we don't want month numbers on the x axis, but the month names instead\n",
    "\n",
    "`calendar` library to the rescue"
   ]
  },
  {
   "cell_type": "code",
   "execution_count": 38,
   "metadata": {
    "collapsed": false
   },
   "outputs": [
    {
     "name": "stdout",
     "output_type": "stream",
     "text": [
      "['January', 'February', 'March']\n",
      "['Jan', 'Feb', 'Mar']\n"
     ]
    }
   ],
   "source": [
    "import calendar\n",
    "\n",
    "# we have the option of full name of month, or abbreviated name\n",
    "print calendar.month_name[1:4]\n",
    "print calendar.month_abbr[1:4]"
   ]
  },
  {
   "cell_type": "code",
   "execution_count": 39,
   "metadata": {
    "collapsed": false
   },
   "outputs": [
    {
     "data": {
      "text/html": [
       "<div>\n",
       "<table border=\"1\" class=\"dataframe\">\n",
       "  <thead>\n",
       "    <tr style=\"text-align: right;\">\n",
       "      <th></th>\n",
       "      <th>male</th>\n",
       "      <th>production_budget</th>\n",
       "      <th>domestic_gross</th>\n",
       "      <th>worldwide_gross</th>\n",
       "    </tr>\n",
       "  </thead>\n",
       "  <tbody>\n",
       "    <tr>\n",
       "      <th>Jan</th>\n",
       "      <td>0.674300</td>\n",
       "      <td>32601526.717557</td>\n",
       "      <td>3.810404e+07</td>\n",
       "      <td>7.400509e+07</td>\n",
       "    </tr>\n",
       "    <tr>\n",
       "      <th>Feb</th>\n",
       "      <td>0.635417</td>\n",
       "      <td>40666927.083333</td>\n",
       "      <td>4.773956e+07</td>\n",
       "      <td>9.061837e+07</td>\n",
       "    </tr>\n",
       "    <tr>\n",
       "      <th>Mar</th>\n",
       "      <td>0.664439</td>\n",
       "      <td>49600521.390374</td>\n",
       "      <td>6.042128e+07</td>\n",
       "      <td>1.255552e+08</td>\n",
       "    </tr>\n",
       "    <tr>\n",
       "      <th>Apr</th>\n",
       "      <td>0.635174</td>\n",
       "      <td>36087732.558140</td>\n",
       "      <td>4.362819e+07</td>\n",
       "      <td>9.773371e+07</td>\n",
       "    </tr>\n",
       "    <tr>\n",
       "      <th>May</th>\n",
       "      <td>0.670471</td>\n",
       "      <td>83474467.295292</td>\n",
       "      <td>1.177966e+08</td>\n",
       "      <td>2.914820e+08</td>\n",
       "    </tr>\n",
       "    <tr>\n",
       "      <th>Jun</th>\n",
       "      <td>0.693252</td>\n",
       "      <td>71355581.748466</td>\n",
       "      <td>1.056504e+08</td>\n",
       "      <td>2.331871e+08</td>\n",
       "    </tr>\n",
       "    <tr>\n",
       "      <th>Jul</th>\n",
       "      <td>0.691233</td>\n",
       "      <td>69198609.688691</td>\n",
       "      <td>1.067479e+08</td>\n",
       "      <td>2.508663e+08</td>\n",
       "    </tr>\n",
       "    <tr>\n",
       "      <th>Aug</th>\n",
       "      <td>0.685897</td>\n",
       "      <td>39495502.685897</td>\n",
       "      <td>5.043031e+07</td>\n",
       "      <td>9.527081e+07</td>\n",
       "    </tr>\n",
       "    <tr>\n",
       "      <th>Sep</th>\n",
       "      <td>0.646438</td>\n",
       "      <td>30787054.947230</td>\n",
       "      <td>3.375987e+07</td>\n",
       "      <td>6.493184e+07</td>\n",
       "    </tr>\n",
       "    <tr>\n",
       "      <th>Oct</th>\n",
       "      <td>0.649704</td>\n",
       "      <td>31066014.201183</td>\n",
       "      <td>3.545069e+07</td>\n",
       "      <td>7.204215e+07</td>\n",
       "    </tr>\n",
       "    <tr>\n",
       "      <th>Nov</th>\n",
       "      <td>0.695270</td>\n",
       "      <td>58577645.927393</td>\n",
       "      <td>8.035767e+07</td>\n",
       "      <td>1.899561e+08</td>\n",
       "    </tr>\n",
       "    <tr>\n",
       "      <th>Dec</th>\n",
       "      <td>0.667660</td>\n",
       "      <td>53589269.746647</td>\n",
       "      <td>7.840979e+07</td>\n",
       "      <td>1.848689e+08</td>\n",
       "    </tr>\n",
       "  </tbody>\n",
       "</table>\n",
       "</div>"
      ],
      "text/plain": [
       "         male  production_budget  domestic_gross  worldwide_gross\n",
       "Jan  0.674300    32601526.717557    3.810404e+07     7.400509e+07\n",
       "Feb  0.635417    40666927.083333    4.773956e+07     9.061837e+07\n",
       "Mar  0.664439    49600521.390374    6.042128e+07     1.255552e+08\n",
       "Apr  0.635174    36087732.558140    4.362819e+07     9.773371e+07\n",
       "May  0.670471    83474467.295292    1.177966e+08     2.914820e+08\n",
       "Jun  0.693252    71355581.748466    1.056504e+08     2.331871e+08\n",
       "Jul  0.691233    69198609.688691    1.067479e+08     2.508663e+08\n",
       "Aug  0.685897    39495502.685897    5.043031e+07     9.527081e+07\n",
       "Sep  0.646438    30787054.947230    3.375987e+07     6.493184e+07\n",
       "Oct  0.649704    31066014.201183    3.545069e+07     7.204215e+07\n",
       "Nov  0.695270    58577645.927393    8.035767e+07     1.899561e+08\n",
       "Dec  0.667660    53589269.746647    7.840979e+07     1.848689e+08"
      ]
     },
     "execution_count": 39,
     "metadata": {},
     "output_type": "execute_result"
    }
   ],
   "source": [
    "# map over the the index of using calendar's month names\n",
    "monthly_mean.index = monthly_mean.index.map(lambda x: calendar.month_abbr[x])\n",
    "monthly_mean"
   ]
  },
  {
   "cell_type": "code",
   "execution_count": 40,
   "metadata": {
    "collapsed": false
   },
   "outputs": [
    {
     "data": {
      "text/plain": [
       "<matplotlib.axes._subplots.AxesSubplot at 0x7fbf4551f450>"
      ]
     },
     "execution_count": 40,
     "metadata": {},
     "output_type": "execute_result"
    },
    {
     "data": {
      "image/png": "[encoded data removed]",
      "text/plain": [
       "<matplotlib.figure.Figure at 0x7fbf45c0b650>"
      ]
     },
     "metadata": {},
     "output_type": "display_data"
    }
   ],
   "source": [
    "# now we have month abbreviations as x labels when we plot\n",
    "(monthly_mean.domestic_gross / monthly_mean.worldwide_gross).plot.bar(\n",
    "    title='Mean Domestic/Worldwide Gross Ratio by month')"
   ]
  },
  {
   "cell_type": "markdown",
   "metadata": {},
   "source": [
    "# The `resample` method\n",
    "\n",
    "A convenient way to bin timeseries data\n",
    "\n",
    "**Warning:** resample only works with a Timestamp-indexed dataframe. You can always set your index to your datetime column of interest `df.set_index('datetime_column')` to make this work"
   ]
  },
  {
   "cell_type": "code",
   "execution_count": 41,
   "metadata": {
    "collapsed": false
   },
   "outputs": [
    {
     "data": {
      "text/html": [
       "<div>\n",
       "<table border=\"1\" class=\"dataframe\">\n",
       "  <thead>\n",
       "    <tr style=\"text-align: right;\">\n",
       "      <th></th>\n",
       "      <th>title</th>\n",
       "      <th>actor</th>\n",
       "      <th>rank</th>\n",
       "      <th>studio</th>\n",
       "      <th>bday</th>\n",
       "      <th>release_date</th>\n",
       "      <th>production_budget</th>\n",
       "      <th>domestic_gross</th>\n",
       "      <th>worldwide_gross</th>\n",
       "    </tr>\n",
       "  </thead>\n",
       "  <tbody>\n",
       "    <tr>\n",
       "      <th>5734</th>\n",
       "      <td>School Daze</td>\n",
       "      <td>Samuel L. Jackson</td>\n",
       "      <td>-</td>\n",
       "      <td>Col.</td>\n",
       "      <td>1948-12-21</td>\n",
       "      <td>1988-02-12</td>\n",
       "      <td>6000000</td>\n",
       "      <td>14545844</td>\n",
       "      <td>14545844</td>\n",
       "    </tr>\n",
       "    <tr>\n",
       "      <th>1933</th>\n",
       "      <td>Do the Right Thing</td>\n",
       "      <td>Samuel L. Jackson</td>\n",
       "      <td>-</td>\n",
       "      <td>Uni.</td>\n",
       "      <td>1948-12-21</td>\n",
       "      <td>1989-06-30</td>\n",
       "      <td>6000000</td>\n",
       "      <td>24289231</td>\n",
       "      <td>24289231</td>\n",
       "    </tr>\n",
       "    <tr>\n",
       "      <th>5785</th>\n",
       "      <td>Sea of Love</td>\n",
       "      <td>Samuel L. Jackson</td>\n",
       "      <td>-</td>\n",
       "      <td>Uni.</td>\n",
       "      <td>1948-12-21</td>\n",
       "      <td>1989-09-15</td>\n",
       "      <td>19000000</td>\n",
       "      <td>53350495</td>\n",
       "      <td>53350495</td>\n",
       "    </tr>\n",
       "    <tr>\n",
       "      <th>4491</th>\n",
       "      <td>Mo' Better Blues</td>\n",
       "      <td>Samuel L. Jackson</td>\n",
       "      <td>-</td>\n",
       "      <td>Uni.</td>\n",
       "      <td>1948-12-21</td>\n",
       "      <td>1990-08-03</td>\n",
       "      <td>10000000</td>\n",
       "      <td>16153000</td>\n",
       "      <td>16153000</td>\n",
       "    </tr>\n",
       "    <tr>\n",
       "      <th>2758</th>\n",
       "      <td>Goodfellas</td>\n",
       "      <td>Samuel L. Jackson</td>\n",
       "      <td>-</td>\n",
       "      <td>WB</td>\n",
       "      <td>1948-12-21</td>\n",
       "      <td>1990-09-19</td>\n",
       "      <td>25000000</td>\n",
       "      <td>46261759</td>\n",
       "      <td>46261759</td>\n",
       "    </tr>\n",
       "  </tbody>\n",
       "</table>\n",
       "</div>"
      ],
      "text/plain": [
       "                   title              actor rank studio       bday  \\\n",
       "5734         School Daze  Samuel L. Jackson    -   Col. 1948-12-21   \n",
       "1933  Do the Right Thing  Samuel L. Jackson    -   Uni. 1948-12-21   \n",
       "5785         Sea of Love  Samuel L. Jackson    -   Uni. 1948-12-21   \n",
       "4491    Mo' Better Blues  Samuel L. Jackson    -   Uni. 1948-12-21   \n",
       "2758          Goodfellas  Samuel L. Jackson    -     WB 1948-12-21   \n",
       "\n",
       "     release_date  production_budget  domestic_gross  worldwide_gross  \n",
       "5734   1988-02-12            6000000        14545844         14545844  \n",
       "1933   1989-06-30            6000000        24289231         24289231  \n",
       "5785   1989-09-15           19000000        53350495         53350495  \n",
       "4491   1990-08-03           10000000        16153000         16153000  \n",
       "2758   1990-09-19           25000000        46261759         46261759  "
      ]
     },
     "execution_count": 41,
     "metadata": {},
     "output_type": "execute_result"
    }
   ],
   "source": [
    "# let's look at movies of a given actor, by year\n",
    "actor_df = df[df.actor=='Samuel L. Jackson'].drop('male', axis=1)\n",
    "actor_df.sort_values('release_date').head()"
   ]
  },
  {
   "cell_type": "code",
   "execution_count": 42,
   "metadata": {
    "collapsed": false
   },
   "outputs": [
    {
     "data": {
      "text/plain": [
       "<matplotlib.axes._subplots.AxesSubplot at 0x7fbf454fd450>"
      ]
     },
     "execution_count": 42,
     "metadata": {},
     "output_type": "execute_result"
    },
    {
     "data": {
      "image/png": "[encoded data removed]",
      "text/plain": [
       "<matplotlib.figure.Figure at 0x7fbf42d7f7d0>"
      ]
     },
     "metadata": {},
     "output_type": "display_data"
    }
   ],
   "source": [
    "# visualize what the data looks like now: it's irregular by year\n",
    "actor_df.plot('release_date','production_budget')"
   ]
  },
  {
   "cell_type": "code",
   "execution_count": 43,
   "metadata": {
    "collapsed": false
   },
   "outputs": [
    {
     "data": {
      "text/html": [
       "<div>\n",
       "<table border=\"1\" class=\"dataframe\">\n",
       "  <thead>\n",
       "    <tr style=\"text-align: right;\">\n",
       "      <th></th>\n",
       "      <th>production_budget</th>\n",
       "      <th>domestic_gross</th>\n",
       "      <th>worldwide_gross</th>\n",
       "    </tr>\n",
       "    <tr>\n",
       "      <th>release_date</th>\n",
       "      <th></th>\n",
       "      <th></th>\n",
       "      <th></th>\n",
       "    </tr>\n",
       "  </thead>\n",
       "  <tbody>\n",
       "    <tr>\n",
       "      <th>1988-01-01</th>\n",
       "      <td>6000000</td>\n",
       "      <td>14545844.0</td>\n",
       "      <td>14545844.0</td>\n",
       "    </tr>\n",
       "    <tr>\n",
       "      <th>1989-01-01</th>\n",
       "      <td>12500000</td>\n",
       "      <td>38819863.0</td>\n",
       "      <td>38819863.0</td>\n",
       "    </tr>\n",
       "    <tr>\n",
       "      <th>1990-01-01</th>\n",
       "      <td>17500000</td>\n",
       "      <td>31207379.5</td>\n",
       "      <td>31207379.5</td>\n",
       "    </tr>\n",
       "    <tr>\n",
       "      <th>1991-01-01</th>\n",
       "      <td>NaN</td>\n",
       "      <td>NaN</td>\n",
       "      <td>NaN</td>\n",
       "    </tr>\n",
       "    <tr>\n",
       "      <th>1992-01-01</th>\n",
       "      <td>45000000</td>\n",
       "      <td>83287363.0</td>\n",
       "      <td>178100000.0</td>\n",
       "    </tr>\n",
       "  </tbody>\n",
       "</table>\n",
       "</div>"
      ],
      "text/plain": [
       "              production_budget  domestic_gross  worldwide_gross\n",
       "release_date                                                    \n",
       "1988-01-01              6000000      14545844.0       14545844.0\n",
       "1989-01-01             12500000      38819863.0       38819863.0\n",
       "1990-01-01             17500000      31207379.5       31207379.5\n",
       "1991-01-01                  NaN             NaN              NaN\n",
       "1992-01-01             45000000      83287363.0      178100000.0"
      ]
     },
     "execution_count": 43,
     "metadata": {},
     "output_type": "execute_result"
    }
   ],
   "source": [
    "# take the mean of all the numerical columns\n",
    "actor_df.set_index('release_date').resample('AS', how='mean').head()"
   ]
  },
  {
   "cell_type": "markdown",
   "metadata": {},
   "source": [
    "## note that by default, missing bins get replaced with a NaN row. This is can be useful if you want to set a default value to the missing bins."
   ]
  },
  {
   "cell_type": "code",
   "execution_count": 44,
   "metadata": {
    "collapsed": false
   },
   "outputs": [
    {
     "data": {
      "text/html": [
       "<div>\n",
       "<table border=\"1\" class=\"dataframe\">\n",
       "  <thead>\n",
       "    <tr style=\"text-align: right;\">\n",
       "      <th></th>\n",
       "      <th>production_budget</th>\n",
       "      <th>domestic_gross</th>\n",
       "      <th>worldwide_gross</th>\n",
       "    </tr>\n",
       "    <tr>\n",
       "      <th>release_date</th>\n",
       "      <th></th>\n",
       "      <th></th>\n",
       "      <th></th>\n",
       "    </tr>\n",
       "  </thead>\n",
       "  <tbody>\n",
       "    <tr>\n",
       "      <th>1988-01-01</th>\n",
       "      <td>6000000</td>\n",
       "      <td>14545844.0</td>\n",
       "      <td>14545844.0</td>\n",
       "    </tr>\n",
       "    <tr>\n",
       "      <th>1989-01-01</th>\n",
       "      <td>12500000</td>\n",
       "      <td>38819863.0</td>\n",
       "      <td>38819863.0</td>\n",
       "    </tr>\n",
       "    <tr>\n",
       "      <th>1990-01-01</th>\n",
       "      <td>17500000</td>\n",
       "      <td>31207379.5</td>\n",
       "      <td>31207379.5</td>\n",
       "    </tr>\n",
       "    <tr>\n",
       "      <th>1991-01-01</th>\n",
       "      <td>0</td>\n",
       "      <td>0.0</td>\n",
       "      <td>0.0</td>\n",
       "    </tr>\n",
       "    <tr>\n",
       "      <th>1992-01-01</th>\n",
       "      <td>45000000</td>\n",
       "      <td>83287363.0</td>\n",
       "      <td>178100000.0</td>\n",
       "    </tr>\n",
       "  </tbody>\n",
       "</table>\n",
       "</div>"
      ],
      "text/plain": [
       "              production_budget  domestic_gross  worldwide_gross\n",
       "release_date                                                    \n",
       "1988-01-01              6000000      14545844.0       14545844.0\n",
       "1989-01-01             12500000      38819863.0       38819863.0\n",
       "1990-01-01             17500000      31207379.5       31207379.5\n",
       "1991-01-01                    0             0.0              0.0\n",
       "1992-01-01             45000000      83287363.0      178100000.0"
      ]
     },
     "execution_count": 44,
     "metadata": {},
     "output_type": "execute_result"
    }
   ],
   "source": [
    "# same as above, but fill all NaNs with 0\n",
    "actor_df.set_index('release_date').resample('AS', how='mean').fillna(0).head()"
   ]
  },
  {
   "cell_type": "code",
   "execution_count": 45,
   "metadata": {
    "collapsed": false
   },
   "outputs": [
    {
     "data": {
      "text/html": [
       "<div>\n",
       "<table border=\"1\" class=\"dataframe\">\n",
       "  <thead>\n",
       "    <tr style=\"text-align: right;\">\n",
       "      <th></th>\n",
       "      <th>production_budget</th>\n",
       "      <th>domestic_gross</th>\n",
       "      <th>worldwide_gross</th>\n",
       "    </tr>\n",
       "    <tr>\n",
       "      <th>release_date</th>\n",
       "      <th></th>\n",
       "      <th></th>\n",
       "      <th></th>\n",
       "    </tr>\n",
       "  </thead>\n",
       "  <tbody>\n",
       "    <tr>\n",
       "      <th>1988-01-01</th>\n",
       "      <td>1.850000e+07</td>\n",
       "      <td>3.964795e+07</td>\n",
       "      <td>5.545005e+07</td>\n",
       "    </tr>\n",
       "    <tr>\n",
       "      <th>1993-01-01</th>\n",
       "      <td>2.393636e+07</td>\n",
       "      <td>7.105578e+07</td>\n",
       "      <td>1.462092e+08</td>\n",
       "    </tr>\n",
       "    <tr>\n",
       "      <th>1998-01-01</th>\n",
       "      <td>5.027560e+07</td>\n",
       "      <td>4.919147e+07</td>\n",
       "      <td>8.413794e+07</td>\n",
       "    </tr>\n",
       "    <tr>\n",
       "      <th>2003-01-01</th>\n",
       "      <td>4.277273e+07</td>\n",
       "      <td>5.912338e+07</td>\n",
       "      <td>1.154025e+08</td>\n",
       "    </tr>\n",
       "    <tr>\n",
       "      <th>2008-01-01</th>\n",
       "      <td>9.595455e+07</td>\n",
       "      <td>1.294431e+08</td>\n",
       "      <td>2.701183e+08</td>\n",
       "    </tr>\n",
       "    <tr>\n",
       "      <th>2013-01-01</th>\n",
       "      <td>1.217500e+08</td>\n",
       "      <td>1.138697e+08</td>\n",
       "      <td>3.472769e+08</td>\n",
       "    </tr>\n",
       "  </tbody>\n",
       "</table>\n",
       "</div>"
      ],
      "text/plain": [
       "              production_budget  domestic_gross  worldwide_gross\n",
       "release_date                                                    \n",
       "1988-01-01         1.850000e+07    3.964795e+07     5.545005e+07\n",
       "1993-01-01         2.393636e+07    7.105578e+07     1.462092e+08\n",
       "1998-01-01         5.027560e+07    4.919147e+07     8.413794e+07\n",
       "2003-01-01         4.277273e+07    5.912338e+07     1.154025e+08\n",
       "2008-01-01         9.595455e+07    1.294431e+08     2.701183e+08\n",
       "2013-01-01         1.217500e+08    1.138697e+08     3.472769e+08"
      ]
     },
     "execution_count": 45,
     "metadata": {},
     "output_type": "execute_result"
    }
   ],
   "source": [
    "# if we want 5-year bins instead, we can plug in a 5 to the resample \"rule\": '5AS'\n",
    "actor_df.set_index('release_date').resample('5AS', how='mean')"
   ]
  },
  {
   "cell_type": "markdown",
   "metadata": {},
   "source": [
    "## resample resolutions available [(via SO answer)](http://stackoverflow.com/a/17001474):\n",
    "\n",
    "    B       business day frequency\n",
    "    C       custom business day frequency (experimental)\n",
    "    D       calendar day frequency\n",
    "    W       weekly frequency\n",
    "    M       month end frequency\n",
    "    BM      business month end frequency\n",
    "    CBM     custom business month end frequency\n",
    "    MS      month start frequency\n",
    "    BMS     business month start frequency\n",
    "    CBMS    custom business month start frequency\n",
    "    Q       quarter end frequency\n",
    "    BQ      business quarter endfrequency\n",
    "    QS      quarter start frequency\n",
    "    BQS     business quarter start frequency\n",
    "    A       year end frequency\n",
    "    BA      business year end frequency\n",
    "    AS      year start frequency\n",
    "    BAS     business year start frequency\n",
    "    BH      business hour frequency\n",
    "    H       hourly frequency\n",
    "    T       minutely frequency\n",
    "    S       secondly frequency\n",
    "    L       milliseonds\n",
    "    U       microseconds\n",
    "    N       nanoseconds"
   ]
  },
  {
   "cell_type": "code",
   "execution_count": 46,
   "metadata": {
    "collapsed": false
   },
   "outputs": [
    {
     "data": {
      "text/html": [
       "<div>\n",
       "<table border=\"1\" class=\"dataframe\">\n",
       "  <thead>\n",
       "    <tr>\n",
       "      <th></th>\n",
       "      <th colspan=\"3\" halign=\"left\">production_budget</th>\n",
       "      <th colspan=\"3\" halign=\"left\">domestic_gross</th>\n",
       "      <th colspan=\"3\" halign=\"left\">worldwide_gross</th>\n",
       "    </tr>\n",
       "    <tr>\n",
       "      <th></th>\n",
       "      <th>mean</th>\n",
       "      <th>count</th>\n",
       "      <th>sem</th>\n",
       "      <th>mean</th>\n",
       "      <th>count</th>\n",
       "      <th>sem</th>\n",
       "      <th>mean</th>\n",
       "      <th>count</th>\n",
       "      <th>sem</th>\n",
       "    </tr>\n",
       "    <tr>\n",
       "      <th>release_date</th>\n",
       "      <th></th>\n",
       "      <th></th>\n",
       "      <th></th>\n",
       "      <th></th>\n",
       "      <th></th>\n",
       "      <th></th>\n",
       "      <th></th>\n",
       "      <th></th>\n",
       "      <th></th>\n",
       "    </tr>\n",
       "  </thead>\n",
       "  <tbody>\n",
       "    <tr>\n",
       "      <th>1988-01-01</th>\n",
       "      <td>18500000.000000</td>\n",
       "      <td>6</td>\n",
       "      <td>6135959.582657</td>\n",
       "      <td>3.964795e+07</td>\n",
       "      <td>6</td>\n",
       "      <td>10884115.683583</td>\n",
       "      <td>5.545005e+07</td>\n",
       "      <td>6</td>\n",
       "      <td>25377320.521576</td>\n",
       "    </tr>\n",
       "    <tr>\n",
       "      <th>1993-01-01</th>\n",
       "      <td>23936363.636364</td>\n",
       "      <td>11</td>\n",
       "      <td>7175555.382082</td>\n",
       "      <td>7.105578e+07</td>\n",
       "      <td>11</td>\n",
       "      <td>34273973.815637</td>\n",
       "      <td>1.462092e+08</td>\n",
       "      <td>11</td>\n",
       "      <td>91512233.056022</td>\n",
       "    </tr>\n",
       "    <tr>\n",
       "      <th>1998-01-01</th>\n",
       "      <td>50275604.400000</td>\n",
       "      <td>10</td>\n",
       "      <td>5932781.054883</td>\n",
       "      <td>4.919147e+07</td>\n",
       "      <td>10</td>\n",
       "      <td>9543078.921972</td>\n",
       "      <td>8.413794e+07</td>\n",
       "      <td>10</td>\n",
       "      <td>23575904.466695</td>\n",
       "    </tr>\n",
       "    <tr>\n",
       "      <th>2003-01-01</th>\n",
       "      <td>42772727.272727</td>\n",
       "      <td>11</td>\n",
       "      <td>7540003.507464</td>\n",
       "      <td>5.912338e+07</td>\n",
       "      <td>11</td>\n",
       "      <td>22686272.625724</td>\n",
       "      <td>1.154025e+08</td>\n",
       "      <td>11</td>\n",
       "      <td>53074648.827023</td>\n",
       "    </tr>\n",
       "    <tr>\n",
       "      <th>2008-01-01</th>\n",
       "      <td>95954545.454545</td>\n",
       "      <td>11</td>\n",
       "      <td>18283431.961684</td>\n",
       "      <td>1.294431e+08</td>\n",
       "      <td>11</td>\n",
       "      <td>34110702.228438</td>\n",
       "      <td>2.701183e+08</td>\n",
       "      <td>11</td>\n",
       "      <td>70691139.433585</td>\n",
       "    </tr>\n",
       "  </tbody>\n",
       "</table>\n",
       "</div>"
      ],
      "text/plain": [
       "             production_budget                        domestic_gross        \\\n",
       "                          mean count              sem           mean count   \n",
       "release_date                                                                 \n",
       "1988-01-01     18500000.000000     6   6135959.582657   3.964795e+07     6   \n",
       "1993-01-01     23936363.636364    11   7175555.382082   7.105578e+07    11   \n",
       "1998-01-01     50275604.400000    10   5932781.054883   4.919147e+07    10   \n",
       "2003-01-01     42772727.272727    11   7540003.507464   5.912338e+07    11   \n",
       "2008-01-01     95954545.454545    11  18283431.961684   1.294431e+08    11   \n",
       "\n",
       "                              worldwide_gross                         \n",
       "                          sem            mean count              sem  \n",
       "release_date                                                          \n",
       "1988-01-01    10884115.683583    5.545005e+07     6  25377320.521576  \n",
       "1993-01-01    34273973.815637    1.462092e+08    11  91512233.056022  \n",
       "1998-01-01     9543078.921972    8.413794e+07    10  23575904.466695  \n",
       "2003-01-01    22686272.625724    1.154025e+08    11  53074648.827023  \n",
       "2008-01-01    34110702.228438    2.701183e+08    11  70691139.433585  "
      ]
     },
     "execution_count": 46,
     "metadata": {},
     "output_type": "execute_result"
    }
   ],
   "source": [
    "# let's say we want the mean, and also the count.\n",
    "# we can pass a list of methods to the `how`\n",
    "yr_bins = actor_df.set_index('release_date').resample('5AS', how=['mean','count','sem'])\n",
    "yr_bins.head()"
   ]
  },
  {
   "cell_type": "code",
   "execution_count": 47,
   "metadata": {
    "collapsed": false
   },
   "outputs": [
    {
     "data": {
      "text/html": [
       "<div>\n",
       "<table border=\"1\" class=\"dataframe\">\n",
       "  <thead>\n",
       "    <tr>\n",
       "      <th></th>\n",
       "      <th>worldwide_gross</th>\n",
       "      <th colspan=\"3\" halign=\"left\">production_budget</th>\n",
       "      <th colspan=\"2\" halign=\"left\">domestic_gross</th>\n",
       "    </tr>\n",
       "    <tr>\n",
       "      <th></th>\n",
       "      <th>total</th>\n",
       "      <th>avg</th>\n",
       "      <th>stdEm</th>\n",
       "      <th>ct</th>\n",
       "      <th>high</th>\n",
       "      <th>low</th>\n",
       "    </tr>\n",
       "    <tr>\n",
       "      <th>release_date</th>\n",
       "      <th></th>\n",
       "      <th></th>\n",
       "      <th></th>\n",
       "      <th></th>\n",
       "      <th></th>\n",
       "      <th></th>\n",
       "    </tr>\n",
       "  </thead>\n",
       "  <tbody>\n",
       "    <tr>\n",
       "      <th>1988-01-01</th>\n",
       "      <td>332700329</td>\n",
       "      <td>1.850000e+07</td>\n",
       "      <td>6135959.582657</td>\n",
       "      <td>6</td>\n",
       "      <td>83287363</td>\n",
       "      <td>14545844</td>\n",
       "    </tr>\n",
       "    <tr>\n",
       "      <th>1993-01-01</th>\n",
       "      <td>1608301185</td>\n",
       "      <td>2.393636e+07</td>\n",
       "      <td>7175555.382082</td>\n",
       "      <td>11</td>\n",
       "      <td>395708305</td>\n",
       "      <td>749741</td>\n",
       "    </tr>\n",
       "    <tr>\n",
       "      <th>1998-01-01</th>\n",
       "      <td>841379413</td>\n",
       "      <td>5.027560e+07</td>\n",
       "      <td>5932781.054883</td>\n",
       "      <td>10</td>\n",
       "      <td>94999143</td>\n",
       "      <td>687081</td>\n",
       "    </tr>\n",
       "    <tr>\n",
       "      <th>2003-01-01</th>\n",
       "      <td>1269427838</td>\n",
       "      <td>4.277273e+07</td>\n",
       "      <td>7540003.507464</td>\n",
       "      <td>11</td>\n",
       "      <td>261441092</td>\n",
       "      <td>3172382</td>\n",
       "    </tr>\n",
       "    <tr>\n",
       "      <th>2008-01-01</th>\n",
       "      <td>2971301486</td>\n",
       "      <td>9.595455e+07</td>\n",
       "      <td>18283431.961684</td>\n",
       "      <td>11</td>\n",
       "      <td>318604126</td>\n",
       "      <td>1110509</td>\n",
       "    </tr>\n",
       "    <tr>\n",
       "      <th>2013-01-01</th>\n",
       "      <td>1389107415</td>\n",
       "      <td>1.217500e+08</td>\n",
       "      <td>22503240.507388</td>\n",
       "      <td>4</td>\n",
       "      <td>259746958</td>\n",
       "      <td>54096599</td>\n",
       "    </tr>\n",
       "  </tbody>\n",
       "</table>\n",
       "</div>"
      ],
      "text/plain": [
       "             worldwide_gross production_budget                       \\\n",
       "                       total               avg            stdEm  ct   \n",
       "release_date                                                          \n",
       "1988-01-01         332700329      1.850000e+07   6135959.582657   6   \n",
       "1993-01-01        1608301185      2.393636e+07   7175555.382082  11   \n",
       "1998-01-01         841379413      5.027560e+07   5932781.054883  10   \n",
       "2003-01-01        1269427838      4.277273e+07   7540003.507464  11   \n",
       "2008-01-01        2971301486      9.595455e+07  18283431.961684  11   \n",
       "2013-01-01        1389107415      1.217500e+08  22503240.507388   4   \n",
       "\n",
       "             domestic_gross            \n",
       "                       high       low  \n",
       "release_date                           \n",
       "1988-01-01         83287363  14545844  \n",
       "1993-01-01        395708305    749741  \n",
       "1998-01-01         94999143    687081  \n",
       "2003-01-01        261441092   3172382  \n",
       "2008-01-01        318604126   1110509  \n",
       "2013-01-01        259746958  54096599  "
      ]
     },
     "execution_count": 47,
     "metadata": {},
     "output_type": "execute_result"
    }
   ],
   "source": [
    "# or you can get very fancy and pass a dict of dicts\n",
    "# the first key references the DataFrame's original column name\n",
    "# the second key defines the name of a new column.\n",
    "yr_bins = actor_df.set_index('release_date').resample('5AS', how={\n",
    "        'production_budget':{'avg':'mean', 'ct':'count', 'stdEm':'sem'},\n",
    "        'domestic_gross':{'low':'min', 'high':'max'},\n",
    "        'worldwide_gross':{'total':'sum'}})\n",
    "yr_bins"
   ]
  },
  {
   "cell_type": "markdown",
   "metadata": {},
   "source": [
    "# Special note: try not to use method names as column names. It will make indexing more annoying.\n",
    "## For example, a column named 'mean' will cause a collision when you call `df.mean`\n",
    "## The `mean` method will have precedence.\n",
    "\n",
    "You'd only be able to access the column like: `df['mean']`"
   ]
  },
  {
   "cell_type": "code",
   "execution_count": 48,
   "metadata": {
    "collapsed": true
   },
   "outputs": [],
   "source": [
    "# PS: 'sem' is standard error of the mean\n",
    "# pd.Series.sem?"
   ]
  },
  {
   "cell_type": "markdown",
   "metadata": {},
   "source": [
    "# Multiindexing"
   ]
  },
  {
   "cell_type": "code",
   "execution_count": 49,
   "metadata": {
    "collapsed": false
   },
   "outputs": [
    {
     "data": {
      "text/html": [
       "<div>\n",
       "<table border=\"1\" class=\"dataframe\">\n",
       "  <thead>\n",
       "    <tr style=\"text-align: right;\">\n",
       "      <th></th>\n",
       "      <th>avg</th>\n",
       "      <th>stdEm</th>\n",
       "      <th>ct</th>\n",
       "    </tr>\n",
       "    <tr>\n",
       "      <th>release_date</th>\n",
       "      <th></th>\n",
       "      <th></th>\n",
       "      <th></th>\n",
       "    </tr>\n",
       "  </thead>\n",
       "  <tbody>\n",
       "    <tr>\n",
       "      <th>1988-01-01</th>\n",
       "      <td>1.850000e+07</td>\n",
       "      <td>6135959.582657</td>\n",
       "      <td>6</td>\n",
       "    </tr>\n",
       "    <tr>\n",
       "      <th>1993-01-01</th>\n",
       "      <td>2.393636e+07</td>\n",
       "      <td>7175555.382082</td>\n",
       "      <td>11</td>\n",
       "    </tr>\n",
       "    <tr>\n",
       "      <th>1998-01-01</th>\n",
       "      <td>5.027560e+07</td>\n",
       "      <td>5932781.054883</td>\n",
       "      <td>10</td>\n",
       "    </tr>\n",
       "    <tr>\n",
       "      <th>2003-01-01</th>\n",
       "      <td>4.277273e+07</td>\n",
       "      <td>7540003.507464</td>\n",
       "      <td>11</td>\n",
       "    </tr>\n",
       "    <tr>\n",
       "      <th>2008-01-01</th>\n",
       "      <td>9.595455e+07</td>\n",
       "      <td>18283431.961684</td>\n",
       "      <td>11</td>\n",
       "    </tr>\n",
       "    <tr>\n",
       "      <th>2013-01-01</th>\n",
       "      <td>1.217500e+08</td>\n",
       "      <td>22503240.507388</td>\n",
       "      <td>4</td>\n",
       "    </tr>\n",
       "  </tbody>\n",
       "</table>\n",
       "</div>"
      ],
      "text/plain": [
       "                       avg            stdEm  ct\n",
       "release_date                                   \n",
       "1988-01-01    1.850000e+07   6135959.582657   6\n",
       "1993-01-01    2.393636e+07   7175555.382082  11\n",
       "1998-01-01    5.027560e+07   5932781.054883  10\n",
       "2003-01-01    4.277273e+07   7540003.507464  11\n",
       "2008-01-01    9.595455e+07  18283431.961684  11\n",
       "2013-01-01    1.217500e+08  22503240.507388   4"
      ]
     },
     "execution_count": 49,
     "metadata": {},
     "output_type": "execute_result"
    }
   ],
   "source": [
    "yr_bins.production_budget"
   ]
  },
  {
   "cell_type": "code",
   "execution_count": 50,
   "metadata": {
    "collapsed": false
   },
   "outputs": [
    {
     "data": {
      "text/plain": [
       "release_date\n",
       "1988-01-01    1.850000e+07\n",
       "1993-01-01    2.393636e+07\n",
       "1998-01-01    5.027560e+07\n",
       "2003-01-01    4.277273e+07\n",
       "2008-01-01    9.595455e+07\n",
       "2013-01-01    1.217500e+08\n",
       "Freq: 5AS-JAN, Name: avg, dtype: float64"
      ]
     },
     "execution_count": 50,
     "metadata": {},
     "output_type": "execute_result"
    }
   ],
   "source": [
    "# chaining the dot column name syntax is fine\n",
    "yr_bins.production_budget.avg"
   ]
  },
  {
   "cell_type": "code",
   "execution_count": 51,
   "metadata": {
    "collapsed": false
   },
   "outputs": [
    {
     "data": {
      "text/plain": [
       "release_date\n",
       "1988-01-01    1.850000e+07\n",
       "1993-01-01    2.393636e+07\n",
       "1998-01-01    5.027560e+07\n",
       "2003-01-01    4.277273e+07\n",
       "2008-01-01    9.595455e+07\n",
       "2013-01-01    1.217500e+08\n",
       "Freq: 5AS-JAN, Name: (production_budget, avg), dtype: float64"
      ]
     },
     "execution_count": 51,
     "metadata": {},
     "output_type": "execute_result"
    }
   ],
   "source": [
    "# you can also index both levels of the column index by name, as strings\n",
    "yr_bins['production_budget','avg']"
   ]
  },
  {
   "cell_type": "markdown",
   "metadata": {},
   "source": [
    "## Flattening a multi-level column index\n",
    "\n",
    "### Use a list comprehension to rewrite the column names"
   ]
  },
  {
   "cell_type": "code",
   "execution_count": 52,
   "metadata": {
    "collapsed": false
   },
   "outputs": [
    {
     "name": "stdout",
     "output_type": "stream",
     "text": [
      "[('worldwide_gross', 'total') ('production_budget', 'avg')\n",
      " ('production_budget', 'stdEm') ('production_budget', 'ct')\n",
      " ('domestic_gross', 'high') ('domestic_gross', 'low')]\n"
     ]
    }
   ],
   "source": [
    "print yr_bins.columns.values"
   ]
  },
  {
   "cell_type": "code",
   "execution_count": 53,
   "metadata": {
    "collapsed": false
   },
   "outputs": [
    {
     "data": {
      "text/html": [
       "<div>\n",
       "<table border=\"1\" class=\"dataframe\">\n",
       "  <thead>\n",
       "    <tr style=\"text-align: right;\">\n",
       "      <th></th>\n",
       "      <th>worldwide_gross_total</th>\n",
       "      <th>production_budget_avg</th>\n",
       "      <th>production_budget_stdEm</th>\n",
       "      <th>production_budget_ct</th>\n",
       "      <th>domestic_gross_high</th>\n",
       "      <th>domestic_gross_low</th>\n",
       "    </tr>\n",
       "    <tr>\n",
       "      <th>release_date</th>\n",
       "      <th></th>\n",
       "      <th></th>\n",
       "      <th></th>\n",
       "      <th></th>\n",
       "      <th></th>\n",
       "      <th></th>\n",
       "    </tr>\n",
       "  </thead>\n",
       "  <tbody>\n",
       "    <tr>\n",
       "      <th>1988-01-01</th>\n",
       "      <td>332700329</td>\n",
       "      <td>1.850000e+07</td>\n",
       "      <td>6135959.582657</td>\n",
       "      <td>6</td>\n",
       "      <td>83287363</td>\n",
       "      <td>14545844</td>\n",
       "    </tr>\n",
       "    <tr>\n",
       "      <th>1993-01-01</th>\n",
       "      <td>1608301185</td>\n",
       "      <td>2.393636e+07</td>\n",
       "      <td>7175555.382082</td>\n",
       "      <td>11</td>\n",
       "      <td>395708305</td>\n",
       "      <td>749741</td>\n",
       "    </tr>\n",
       "    <tr>\n",
       "      <th>1998-01-01</th>\n",
       "      <td>841379413</td>\n",
       "      <td>5.027560e+07</td>\n",
       "      <td>5932781.054883</td>\n",
       "      <td>10</td>\n",
       "      <td>94999143</td>\n",
       "      <td>687081</td>\n",
       "    </tr>\n",
       "    <tr>\n",
       "      <th>2003-01-01</th>\n",
       "      <td>1269427838</td>\n",
       "      <td>4.277273e+07</td>\n",
       "      <td>7540003.507464</td>\n",
       "      <td>11</td>\n",
       "      <td>261441092</td>\n",
       "      <td>3172382</td>\n",
       "    </tr>\n",
       "    <tr>\n",
       "      <th>2008-01-01</th>\n",
       "      <td>2971301486</td>\n",
       "      <td>9.595455e+07</td>\n",
       "      <td>18283431.961684</td>\n",
       "      <td>11</td>\n",
       "      <td>318604126</td>\n",
       "      <td>1110509</td>\n",
       "    </tr>\n",
       "    <tr>\n",
       "      <th>2013-01-01</th>\n",
       "      <td>1389107415</td>\n",
       "      <td>1.217500e+08</td>\n",
       "      <td>22503240.507388</td>\n",
       "      <td>4</td>\n",
       "      <td>259746958</td>\n",
       "      <td>54096599</td>\n",
       "    </tr>\n",
       "  </tbody>\n",
       "</table>\n",
       "</div>"
      ],
      "text/plain": [
       "              worldwide_gross_total  production_budget_avg  \\\n",
       "release_date                                                 \n",
       "1988-01-01                332700329           1.850000e+07   \n",
       "1993-01-01               1608301185           2.393636e+07   \n",
       "1998-01-01                841379413           5.027560e+07   \n",
       "2003-01-01               1269427838           4.277273e+07   \n",
       "2008-01-01               2971301486           9.595455e+07   \n",
       "2013-01-01               1389107415           1.217500e+08   \n",
       "\n",
       "              production_budget_stdEm  production_budget_ct  \\\n",
       "release_date                                                  \n",
       "1988-01-01             6135959.582657                     6   \n",
       "1993-01-01             7175555.382082                    11   \n",
       "1998-01-01             5932781.054883                    10   \n",
       "2003-01-01             7540003.507464                    11   \n",
       "2008-01-01            18283431.961684                    11   \n",
       "2013-01-01            22503240.507388                     4   \n",
       "\n",
       "              domestic_gross_high  domestic_gross_low  \n",
       "release_date                                           \n",
       "1988-01-01               83287363            14545844  \n",
       "1993-01-01              395708305              749741  \n",
       "1998-01-01               94999143              687081  \n",
       "2003-01-01              261441092             3172382  \n",
       "2008-01-01              318604126             1110509  \n",
       "2013-01-01              259746958            54096599  "
      ]
     },
     "execution_count": 53,
     "metadata": {},
     "output_type": "execute_result"
    }
   ],
   "source": [
    "yr_bins_flat = yr_bins.copy()\n",
    "# use an underscore as a delimiter. But it's up to you.\n",
    "yr_bins_flat.columns = ['_'.join(col) for col in yr_bins.columns.values]\n",
    "\n",
    "yr_bins_flat"
   ]
  },
  {
   "cell_type": "markdown",
   "metadata": {},
   "source": [
    "# `pd.cut()`: bins numeric values -> categorical values"
   ]
  },
  {
   "cell_type": "code",
   "execution_count": 54,
   "metadata": {
    "collapsed": false
   },
   "outputs": [
    {
     "data": {
      "text/html": [
       "<div>\n",
       "<table border=\"1\" class=\"dataframe\">\n",
       "  <thead>\n",
       "    <tr style=\"text-align: right;\">\n",
       "      <th></th>\n",
       "      <th>movie</th>\n",
       "      <th>rating_no</th>\n",
       "      <th>gross</th>\n",
       "    </tr>\n",
       "  </thead>\n",
       "  <tbody>\n",
       "    <tr>\n",
       "      <th>8233</th>\n",
       "      <td>The Squid and the Whale</td>\n",
       "      <td>0.670010</td>\n",
       "      <td>67000966.20</td>\n",
       "    </tr>\n",
       "    <tr>\n",
       "      <th>7873</th>\n",
       "      <td>The Open Road</td>\n",
       "      <td>0.784585</td>\n",
       "      <td>78458475.87</td>\n",
       "    </tr>\n",
       "    <tr>\n",
       "      <th>4139</th>\n",
       "      <td>Lucky You</td>\n",
       "      <td>0.795232</td>\n",
       "      <td>79523167.74</td>\n",
       "    </tr>\n",
       "    <tr>\n",
       "      <th>4987</th>\n",
       "      <td>Outlander</td>\n",
       "      <td>0.675873</td>\n",
       "      <td>67587260.22</td>\n",
       "    </tr>\n",
       "    <tr>\n",
       "      <th>5950</th>\n",
       "      <td>Showtime</td>\n",
       "      <td>0.569670</td>\n",
       "      <td>56967026.48</td>\n",
       "    </tr>\n",
       "    <tr>\n",
       "      <th>3564</th>\n",
       "      <td>Jerry Maguire</td>\n",
       "      <td>0.460652</td>\n",
       "      <td>46065198.93</td>\n",
       "    </tr>\n",
       "    <tr>\n",
       "      <th>6813</th>\n",
       "      <td>The Campaign</td>\n",
       "      <td>0.210835</td>\n",
       "      <td>21083478.24</td>\n",
       "    </tr>\n",
       "    <tr>\n",
       "      <th>8798</th>\n",
       "      <td>Unaccompanied Minors</td>\n",
       "      <td>0.001253</td>\n",
       "      <td>125250.12</td>\n",
       "    </tr>\n",
       "    <tr>\n",
       "      <th>2841</th>\n",
       "      <td>Hairspray</td>\n",
       "      <td>0.558326</td>\n",
       "      <td>55832627.14</td>\n",
       "    </tr>\n",
       "    <tr>\n",
       "      <th>4472</th>\n",
       "      <td>Mission: Impossible</td>\n",
       "      <td>0.516633</td>\n",
       "      <td>51663267.45</td>\n",
       "    </tr>\n",
       "  </tbody>\n",
       "</table>\n",
       "</div>"
      ],
      "text/plain": [
       "                        movie  rating_no        gross\n",
       "8233  The Squid and the Whale   0.670010  67000966.20\n",
       "7873            The Open Road   0.784585  78458475.87\n",
       "4139                Lucky You   0.795232  79523167.74\n",
       "4987                Outlander   0.675873  67587260.22\n",
       "5950                 Showtime   0.569670  56967026.48\n",
       "3564            Jerry Maguire   0.460652  46065198.93\n",
       "6813             The Campaign   0.210835  21083478.24\n",
       "8798     Unaccompanied Minors   0.001253    125250.12\n",
       "2841                Hairspray   0.558326  55832627.14\n",
       "4472      Mission: Impossible   0.516633  51663267.45"
      ]
     },
     "execution_count": 54,
     "metadata": {},
     "output_type": "execute_result"
    }
   ],
   "source": [
    "# make some fake data\n",
    "no_movies = 10\n",
    "ratings_df = pd.DataFrame.from_dict({\n",
    "    'rating_no':pd.np.random.rand(no_movies), \n",
    "    'movie':df.title.sample(no_movies)})\n",
    "# fake gross based on fake rating\n",
    "ratings_df['gross'] = pd.np.round(ratings_df.rating_no*100000000, decimals=2)\n",
    "\n",
    "# save this unmodified version for later\n",
    "ratings_df_orig = ratings_df.copy()\n",
    "\n",
    "ratings_df"
   ]
  },
  {
   "cell_type": "code",
   "execution_count": 55,
   "metadata": {
    "collapsed": false
   },
   "outputs": [
    {
     "data": {
      "text/html": [
       "<div>\n",
       "<table border=\"1\" class=\"dataframe\">\n",
       "  <thead>\n",
       "    <tr style=\"text-align: right;\">\n",
       "      <th></th>\n",
       "      <th>movie</th>\n",
       "      <th>rating_no</th>\n",
       "      <th>gross</th>\n",
       "      <th>rating_category_ugly</th>\n",
       "      <th>rating_category</th>\n",
       "    </tr>\n",
       "  </thead>\n",
       "  <tbody>\n",
       "    <tr>\n",
       "      <th>8233</th>\n",
       "      <td>The Squid and the Whale</td>\n",
       "      <td>0.670010</td>\n",
       "      <td>67000966.20</td>\n",
       "      <td>(0.597, 0.795]</td>\n",
       "      <td>excellent</td>\n",
       "    </tr>\n",
       "    <tr>\n",
       "      <th>7873</th>\n",
       "      <td>The Open Road</td>\n",
       "      <td>0.784585</td>\n",
       "      <td>78458475.87</td>\n",
       "      <td>(0.597, 0.795]</td>\n",
       "      <td>excellent</td>\n",
       "    </tr>\n",
       "    <tr>\n",
       "      <th>4139</th>\n",
       "      <td>Lucky You</td>\n",
       "      <td>0.795232</td>\n",
       "      <td>79523167.74</td>\n",
       "      <td>(0.597, 0.795]</td>\n",
       "      <td>excellent</td>\n",
       "    </tr>\n",
       "    <tr>\n",
       "      <th>4987</th>\n",
       "      <td>Outlander</td>\n",
       "      <td>0.675873</td>\n",
       "      <td>67587260.22</td>\n",
       "      <td>(0.597, 0.795]</td>\n",
       "      <td>excellent</td>\n",
       "    </tr>\n",
       "    <tr>\n",
       "      <th>5950</th>\n",
       "      <td>Showtime</td>\n",
       "      <td>0.569670</td>\n",
       "      <td>56967026.48</td>\n",
       "      <td>(0.398, 0.597]</td>\n",
       "      <td>good</td>\n",
       "    </tr>\n",
       "    <tr>\n",
       "      <th>3564</th>\n",
       "      <td>Jerry Maguire</td>\n",
       "      <td>0.460652</td>\n",
       "      <td>46065198.93</td>\n",
       "      <td>(0.398, 0.597]</td>\n",
       "      <td>good</td>\n",
       "    </tr>\n",
       "    <tr>\n",
       "      <th>6813</th>\n",
       "      <td>The Campaign</td>\n",
       "      <td>0.210835</td>\n",
       "      <td>21083478.24</td>\n",
       "      <td>(0.2, 0.398]</td>\n",
       "      <td>mediocre</td>\n",
       "    </tr>\n",
       "    <tr>\n",
       "      <th>8798</th>\n",
       "      <td>Unaccompanied Minors</td>\n",
       "      <td>0.001253</td>\n",
       "      <td>125250.12</td>\n",
       "      <td>(0.000459, 0.2]</td>\n",
       "      <td>bad</td>\n",
       "    </tr>\n",
       "    <tr>\n",
       "      <th>2841</th>\n",
       "      <td>Hairspray</td>\n",
       "      <td>0.558326</td>\n",
       "      <td>55832627.14</td>\n",
       "      <td>(0.398, 0.597]</td>\n",
       "      <td>good</td>\n",
       "    </tr>\n",
       "    <tr>\n",
       "      <th>4472</th>\n",
       "      <td>Mission: Impossible</td>\n",
       "      <td>0.516633</td>\n",
       "      <td>51663267.45</td>\n",
       "      <td>(0.398, 0.597]</td>\n",
       "      <td>good</td>\n",
       "    </tr>\n",
       "  </tbody>\n",
       "</table>\n",
       "</div>"
      ],
      "text/plain": [
       "                        movie  rating_no        gross rating_category_ugly  \\\n",
       "8233  The Squid and the Whale   0.670010  67000966.20       (0.597, 0.795]   \n",
       "7873            The Open Road   0.784585  78458475.87       (0.597, 0.795]   \n",
       "4139                Lucky You   0.795232  79523167.74       (0.597, 0.795]   \n",
       "4987                Outlander   0.675873  67587260.22       (0.597, 0.795]   \n",
       "5950                 Showtime   0.569670  56967026.48       (0.398, 0.597]   \n",
       "3564            Jerry Maguire   0.460652  46065198.93       (0.398, 0.597]   \n",
       "6813             The Campaign   0.210835  21083478.24         (0.2, 0.398]   \n",
       "8798     Unaccompanied Minors   0.001253    125250.12      (0.000459, 0.2]   \n",
       "2841                Hairspray   0.558326  55832627.14       (0.398, 0.597]   \n",
       "4472      Mission: Impossible   0.516633  51663267.45       (0.398, 0.597]   \n",
       "\n",
       "     rating_category  \n",
       "8233       excellent  \n",
       "7873       excellent  \n",
       "4139       excellent  \n",
       "4987       excellent  \n",
       "5950            good  \n",
       "3564            good  \n",
       "6813        mediocre  \n",
       "8798             bad  \n",
       "2841            good  \n",
       "4472            good  "
      ]
     },
     "execution_count": 55,
     "metadata": {},
     "output_type": "execute_result"
    }
   ],
   "source": [
    "# cut numerical ratings into N bins\n",
    "\n",
    "# here's what the labels default to when you don't define your own labels\n",
    "ratings_df['rating_category_ugly'] = pd.cut(ratings_df.rating_no, bins=4)\n",
    "\n",
    "# you can substitute whatever labels you want\n",
    "ratings_df['rating_category'] = pd.cut(ratings_df.rating_no, bins=4, labels=['bad','mediocre','good','excellent'])\n",
    "\n",
    "ratings_df"
   ]
  },
  {
   "cell_type": "code",
   "execution_count": 56,
   "metadata": {
    "collapsed": false
   },
   "outputs": [
    {
     "name": "stdout",
     "output_type": "stream",
     "text": [
      "mean gross for each rating bin\n"
     ]
    },
    {
     "data": {
      "text/html": [
       "<div>\n",
       "<table border=\"1\" class=\"dataframe\">\n",
       "  <thead>\n",
       "    <tr style=\"text-align: right;\">\n",
       "      <th></th>\n",
       "      <th>rating_no</th>\n",
       "      <th>gross</th>\n",
       "    </tr>\n",
       "    <tr>\n",
       "      <th>rating_category</th>\n",
       "      <th></th>\n",
       "      <th></th>\n",
       "    </tr>\n",
       "  </thead>\n",
       "  <tbody>\n",
       "    <tr>\n",
       "      <th>bad</th>\n",
       "      <td>0.001253</td>\n",
       "      <td>125250.1200</td>\n",
       "    </tr>\n",
       "    <tr>\n",
       "      <th>mediocre</th>\n",
       "      <td>0.210835</td>\n",
       "      <td>21083478.2400</td>\n",
       "    </tr>\n",
       "    <tr>\n",
       "      <th>good</th>\n",
       "      <td>0.526320</td>\n",
       "      <td>52632030.0000</td>\n",
       "    </tr>\n",
       "    <tr>\n",
       "      <th>excellent</th>\n",
       "      <td>0.731425</td>\n",
       "      <td>73142467.5075</td>\n",
       "    </tr>\n",
       "  </tbody>\n",
       "</table>\n",
       "</div>"
      ],
      "text/plain": [
       "                 rating_no          gross\n",
       "rating_category                          \n",
       "bad               0.001253    125250.1200\n",
       "mediocre          0.210835  21083478.2400\n",
       "good              0.526320  52632030.0000\n",
       "excellent         0.731425  73142467.5075"
      ]
     },
     "execution_count": 56,
     "metadata": {},
     "output_type": "execute_result"
    }
   ],
   "source": [
    "# `pd.cut` gives us an excellent way to groupby based on bins.\n",
    "# Eg, we can use the new categorical ratings to find the mean gross for each rating bin\n",
    "print 'mean gross for each rating bin'\n",
    "ratings_df.groupby('rating_category').mean()"
   ]
  },
  {
   "cell_type": "code",
   "execution_count": 57,
   "metadata": {
    "collapsed": false
   },
   "outputs": [
    {
     "data": {
      "text/html": [
       "<div>\n",
       "<table border=\"1\" class=\"dataframe\">\n",
       "  <thead>\n",
       "    <tr style=\"text-align: right;\">\n",
       "      <th></th>\n",
       "      <th>rating_no</th>\n",
       "      <th>gross</th>\n",
       "    </tr>\n",
       "    <tr>\n",
       "      <th>rating_no</th>\n",
       "      <th></th>\n",
       "      <th></th>\n",
       "    </tr>\n",
       "  </thead>\n",
       "  <tbody>\n",
       "    <tr>\n",
       "      <th>(0.000459, 0.16]</th>\n",
       "      <td>0.001253</td>\n",
       "      <td>125250.1200</td>\n",
       "    </tr>\n",
       "    <tr>\n",
       "      <th>(0.16, 0.319]</th>\n",
       "      <td>0.210835</td>\n",
       "      <td>21083478.2400</td>\n",
       "    </tr>\n",
       "    <tr>\n",
       "      <th>(0.319, 0.478]</th>\n",
       "      <td>0.460652</td>\n",
       "      <td>46065198.9300</td>\n",
       "    </tr>\n",
       "    <tr>\n",
       "      <th>(0.478, 0.636]</th>\n",
       "      <td>0.548210</td>\n",
       "      <td>54820973.6900</td>\n",
       "    </tr>\n",
       "    <tr>\n",
       "      <th>(0.636, 0.795]</th>\n",
       "      <td>0.731425</td>\n",
       "      <td>73142467.5075</td>\n",
       "    </tr>\n",
       "  </tbody>\n",
       "</table>\n",
       "</div>"
      ],
      "text/plain": [
       "                  rating_no          gross\n",
       "rating_no                                 \n",
       "(0.000459, 0.16]   0.001253    125250.1200\n",
       "(0.16, 0.319]      0.210835  21083478.2400\n",
       "(0.319, 0.478]     0.460652  46065198.9300\n",
       "(0.478, 0.636]     0.548210  54820973.6900\n",
       "(0.636, 0.795]     0.731425  73142467.5075"
      ]
     },
     "execution_count": 57,
     "metadata": {},
     "output_type": "execute_result"
    }
   ],
   "source": [
    "# Even if we didn't care about assigning labels like 'bad', 'mediocre', etc to the rating numbers,\n",
    "# pd.cut is still very useful if we want to groupby on binned numerical data\n",
    "\n",
    "# We can do this as a one-liner, using the copy of the original ratings_df before we added those extra columns.\n",
    "# Let's do 5 bins to switch it up.\n",
    "ratings_df_orig.groupby(pd.cut(ratings_df_orig.rating_no, bins=5)).mean()"
   ]
  },
  {
   "cell_type": "markdown",
   "metadata": {},
   "source": [
    "### Just like with `resample`, empty bins have *NaN* values."
   ]
  },
  {
   "cell_type": "code",
   "execution_count": 58,
   "metadata": {
    "collapsed": false
   },
   "outputs": [
    {
     "data": {
      "text/html": [
       "<div>\n",
       "<table border=\"1\" class=\"dataframe\">\n",
       "  <thead>\n",
       "    <tr style=\"text-align: right;\">\n",
       "      <th></th>\n",
       "      <th>rating_no</th>\n",
       "      <th>gross</th>\n",
       "    </tr>\n",
       "  </thead>\n",
       "  <tbody>\n",
       "    <tr>\n",
       "      <th>0</th>\n",
       "      <td>0.001253</td>\n",
       "      <td>125250.1200</td>\n",
       "    </tr>\n",
       "    <tr>\n",
       "      <th>1</th>\n",
       "      <td>0.210835</td>\n",
       "      <td>21083478.2400</td>\n",
       "    </tr>\n",
       "    <tr>\n",
       "      <th>2</th>\n",
       "      <td>0.460652</td>\n",
       "      <td>46065198.9300</td>\n",
       "    </tr>\n",
       "    <tr>\n",
       "      <th>3</th>\n",
       "      <td>0.548210</td>\n",
       "      <td>54820973.6900</td>\n",
       "    </tr>\n",
       "    <tr>\n",
       "      <th>4</th>\n",
       "      <td>0.731425</td>\n",
       "      <td>73142467.5075</td>\n",
       "    </tr>\n",
       "  </tbody>\n",
       "</table>\n",
       "</div>"
      ],
      "text/plain": [
       "   rating_no          gross\n",
       "0   0.001253    125250.1200\n",
       "1   0.210835  21083478.2400\n",
       "2   0.460652  46065198.9300\n",
       "3   0.548210  54820973.6900\n",
       "4   0.731425  73142467.5075"
      ]
     },
     "execution_count": 58,
     "metadata": {},
     "output_type": "execute_result"
    }
   ],
   "source": [
    "ratings_df_orig.groupby(pd.cut(ratings_df_orig.rating_no, bins=5), as_index=False).mean()"
   ]
  },
  {
   "cell_type": "markdown",
   "metadata": {},
   "source": [
    "# Bonus: Taking advantage of seaborn's groupby support"
   ]
  },
  {
   "cell_type": "code",
   "execution_count": 59,
   "metadata": {
    "collapsed": false
   },
   "outputs": [
    {
     "data": {
      "text/html": [
       "<div>\n",
       "<table border=\"1\" class=\"dataframe\">\n",
       "  <thead>\n",
       "    <tr style=\"text-align: right;\">\n",
       "      <th></th>\n",
       "      <th>actor</th>\n",
       "      <th>rank</th>\n",
       "      <th>studio</th>\n",
       "      <th>bday</th>\n",
       "      <th>male</th>\n",
       "      <th>release_date</th>\n",
       "      <th>production_budget</th>\n",
       "      <th>domestic_gross</th>\n",
       "      <th>worldwide_gross</th>\n",
       "    </tr>\n",
       "    <tr>\n",
       "      <th>title</th>\n",
       "      <th></th>\n",
       "      <th></th>\n",
       "      <th></th>\n",
       "      <th></th>\n",
       "      <th></th>\n",
       "      <th></th>\n",
       "      <th></th>\n",
       "      <th></th>\n",
       "      <th></th>\n",
       "    </tr>\n",
       "  </thead>\n",
       "  <tbody>\n",
       "    <tr>\n",
       "      <th>(500) Days of Summer</th>\n",
       "      <td>Chloe Moretz</td>\n",
       "      <td>11</td>\n",
       "      <td>FoxS</td>\n",
       "      <td>1997-02-10</td>\n",
       "      <td>0</td>\n",
       "      <td>2009-07-17</td>\n",
       "      <td>7500000</td>\n",
       "      <td>32391374</td>\n",
       "      <td>59101642</td>\n",
       "    </tr>\n",
       "    <tr>\n",
       "      <th>10 Cloverfield Lane</th>\n",
       "      <td>Mary Elizabeth Winstead</td>\n",
       "      <td>4</td>\n",
       "      <td>Par.</td>\n",
       "      <td>1984-11-28</td>\n",
       "      <td>0</td>\n",
       "      <td>2016-03-11</td>\n",
       "      <td>5000000</td>\n",
       "      <td>69793284</td>\n",
       "      <td>101493284</td>\n",
       "    </tr>\n",
       "    <tr>\n",
       "      <th>102 Dalmatians</th>\n",
       "      <td>Glenn Close</td>\n",
       "      <td>7</td>\n",
       "      <td>BV</td>\n",
       "      <td>1947-03-19</td>\n",
       "      <td>0</td>\n",
       "      <td>2000-11-22</td>\n",
       "      <td>85000000</td>\n",
       "      <td>66941559</td>\n",
       "      <td>66941559</td>\n",
       "    </tr>\n",
       "    <tr>\n",
       "      <th>10th &amp; Wolf</th>\n",
       "      <td>Giovanni Ribisi</td>\n",
       "      <td>25</td>\n",
       "      <td>Think</td>\n",
       "      <td>1974-12-17</td>\n",
       "      <td>1</td>\n",
       "      <td>2006-08-18</td>\n",
       "      <td>8000000</td>\n",
       "      <td>54702</td>\n",
       "      <td>143782</td>\n",
       "    </tr>\n",
       "    <tr>\n",
       "      <th>12 Rounds</th>\n",
       "      <td>John Cena</td>\n",
       "      <td>4</td>\n",
       "      <td>Fox</td>\n",
       "      <td>1977-04-23</td>\n",
       "      <td>1</td>\n",
       "      <td>2009-03-27</td>\n",
       "      <td>20000000</td>\n",
       "      <td>12234694</td>\n",
       "      <td>17306648</td>\n",
       "    </tr>\n",
       "  </tbody>\n",
       "</table>\n",
       "</div>"
      ],
      "text/plain": [
       "                                        actor rank studio       bday  male  \\\n",
       "title                                                                        \n",
       "(500) Days of Summer             Chloe Moretz   11   FoxS 1997-02-10     0   \n",
       "10 Cloverfield Lane   Mary Elizabeth Winstead    4   Par. 1984-11-28     0   \n",
       "102 Dalmatians                    Glenn Close    7     BV 1947-03-19     0   \n",
       "10th & Wolf                   Giovanni Ribisi   25  Think 1974-12-17     1   \n",
       "12 Rounds                           John Cena    4    Fox 1977-04-23     1   \n",
       "\n",
       "                     release_date  production_budget  domestic_gross  \\\n",
       "title                                                                  \n",
       "(500) Days of Summer   2009-07-17            7500000        32391374   \n",
       "10 Cloverfield Lane    2016-03-11            5000000        69793284   \n",
       "102 Dalmatians         2000-11-22           85000000        66941559   \n",
       "10th & Wolf            2006-08-18            8000000           54702   \n",
       "12 Rounds              2009-03-27           20000000        12234694   \n",
       "\n",
       "                      worldwide_gross  \n",
       "title                                  \n",
       "(500) Days of Summer         59101642  \n",
       "10 Cloverfield Lane         101493284  \n",
       "102 Dalmatians               66941559  \n",
       "10th & Wolf                    143782  \n",
       "12 Rounds                    17306648  "
      ]
     },
     "execution_count": 59,
     "metadata": {},
     "output_type": "execute_result"
    }
   ],
   "source": [
    "n_top = 15\n",
    "# we only want one row per movie, we don't care about actors\n",
    "by_movie_df = df.groupby('title').first()\n",
    "by_movie_df.head()"
   ]
  },
  {
   "cell_type": "code",
   "execution_count": 60,
   "metadata": {
    "collapsed": false
   },
   "outputs": [
    {
     "name": "stdout",
     "output_type": "stream",
     "text": [
      "Index([u'WB', u'BV', u'Uni.', u'Sony', u'Fox', u'Par.', u'NL', u'P/DW', u'MGM',\n",
      "       u'DW', u'LGF', u'Mira.', u'WB (NL)', u'SonR', u'SGem'],\n",
      "      dtype='object', name=u'studio')\n"
     ]
    },
    {
     "data": {
      "text/html": [
       "<div>\n",
       "<table border=\"1\" class=\"dataframe\">\n",
       "  <thead>\n",
       "    <tr style=\"text-align: right;\">\n",
       "      <th></th>\n",
       "      <th>actor</th>\n",
       "      <th>rank</th>\n",
       "      <th>studio</th>\n",
       "      <th>bday</th>\n",
       "      <th>male</th>\n",
       "      <th>release_date</th>\n",
       "      <th>production_budget</th>\n",
       "      <th>domestic_gross</th>\n",
       "      <th>worldwide_gross</th>\n",
       "    </tr>\n",
       "    <tr>\n",
       "      <th>title</th>\n",
       "      <th></th>\n",
       "      <th></th>\n",
       "      <th></th>\n",
       "      <th></th>\n",
       "      <th></th>\n",
       "      <th></th>\n",
       "      <th></th>\n",
       "      <th></th>\n",
       "      <th></th>\n",
       "    </tr>\n",
       "  </thead>\n",
       "  <tbody>\n",
       "    <tr>\n",
       "      <th>10 Cloverfield Lane</th>\n",
       "      <td>Mary Elizabeth Winstead</td>\n",
       "      <td>4</td>\n",
       "      <td>Par.</td>\n",
       "      <td>1984-11-28</td>\n",
       "      <td>0</td>\n",
       "      <td>2016-03-11</td>\n",
       "      <td>5000000</td>\n",
       "      <td>69793284</td>\n",
       "      <td>101493284</td>\n",
       "    </tr>\n",
       "    <tr>\n",
       "      <th>102 Dalmatians</th>\n",
       "      <td>Glenn Close</td>\n",
       "      <td>7</td>\n",
       "      <td>BV</td>\n",
       "      <td>1947-03-19</td>\n",
       "      <td>0</td>\n",
       "      <td>2000-11-22</td>\n",
       "      <td>85000000</td>\n",
       "      <td>66941559</td>\n",
       "      <td>66941559</td>\n",
       "    </tr>\n",
       "    <tr>\n",
       "      <th>12 Rounds</th>\n",
       "      <td>John Cena</td>\n",
       "      <td>4</td>\n",
       "      <td>Fox</td>\n",
       "      <td>1977-04-23</td>\n",
       "      <td>1</td>\n",
       "      <td>2009-03-27</td>\n",
       "      <td>20000000</td>\n",
       "      <td>12234694</td>\n",
       "      <td>17306648</td>\n",
       "    </tr>\n",
       "    <tr>\n",
       "      <th>13 Hours: The Secret Soldiers of Benghazi</th>\n",
       "      <td>John Krasinski</td>\n",
       "      <td>4</td>\n",
       "      <td>Par.</td>\n",
       "      <td>1979-10-20</td>\n",
       "      <td>1</td>\n",
       "      <td>2016-01-15</td>\n",
       "      <td>50000000</td>\n",
       "      <td>52853219</td>\n",
       "      <td>68053219</td>\n",
       "    </tr>\n",
       "    <tr>\n",
       "      <th>15 Minutes</th>\n",
       "      <td>Charlize Theron</td>\n",
       "      <td>-</td>\n",
       "      <td>NL</td>\n",
       "      <td>1975-08-07</td>\n",
       "      <td>0</td>\n",
       "      <td>2001-03-09</td>\n",
       "      <td>42000000</td>\n",
       "      <td>24375436</td>\n",
       "      <td>56331864</td>\n",
       "    </tr>\n",
       "  </tbody>\n",
       "</table>\n",
       "</div>"
      ],
      "text/plain": [
       "                                                             actor rank  \\\n",
       "title                                                                     \n",
       "10 Cloverfield Lane                        Mary Elizabeth Winstead    4   \n",
       "102 Dalmatians                                         Glenn Close    7   \n",
       "12 Rounds                                                John Cena    4   \n",
       "13 Hours: The Secret Soldiers of Benghazi           John Krasinski    4   \n",
       "15 Minutes                                         Charlize Theron    -   \n",
       "\n",
       "                                          studio       bday  male  \\\n",
       "title                                                               \n",
       "10 Cloverfield Lane                         Par. 1984-11-28     0   \n",
       "102 Dalmatians                                BV 1947-03-19     0   \n",
       "12 Rounds                                    Fox 1977-04-23     1   \n",
       "13 Hours: The Secret Soldiers of Benghazi   Par. 1979-10-20     1   \n",
       "15 Minutes                                    NL 1975-08-07     0   \n",
       "\n",
       "                                          release_date  production_budget  \\\n",
       "title                                                                       \n",
       "10 Cloverfield Lane                         2016-03-11            5000000   \n",
       "102 Dalmatians                              2000-11-22           85000000   \n",
       "12 Rounds                                   2009-03-27           20000000   \n",
       "13 Hours: The Secret Soldiers of Benghazi   2016-01-15           50000000   \n",
       "15 Minutes                                  2001-03-09           42000000   \n",
       "\n",
       "                                           domestic_gross  worldwide_gross  \n",
       "title                                                                       \n",
       "10 Cloverfield Lane                              69793284        101493284  \n",
       "102 Dalmatians                                   66941559         66941559  \n",
       "12 Rounds                                        12234694         17306648  \n",
       "13 Hours: The Secret Soldiers of Benghazi        52853219         68053219  \n",
       "15 Minutes                                       24375436         56331864  "
      ]
     },
     "execution_count": 60,
     "metadata": {},
     "output_type": "execute_result"
    }
   ],
   "source": [
    "# select only the top N studios, by total production budget of all movies\n",
    "top_studio_names = by_movie_df.groupby('studio').sum().sort_values(\n",
    "    'production_budget', ascending=False).index[:n_top]\n",
    "\n",
    "top_studio_df = by_movie_df[by_movie_df.studio.isin(top_studio_names)]\n",
    "\n",
    "print top_studio_names\n",
    "top_studio_df.head()"
   ]
  },
  {
   "cell_type": "code",
   "execution_count": 61,
   "metadata": {
    "collapsed": false
   },
   "outputs": [
    {
     "name": "stderr",
     "output_type": "stream",
     "text": [
      "/home/ian/anaconda2/lib/python2.7/site-packages/matplotlib/__init__.py:872: UserWarning: axes.color_cycle is deprecated and replaced with axes.prop_cycle; please use the latter.\n",
      "  warnings.warn(self.msg_depr % (key, alt_key))\n",
      "/home/ian/anaconda2/lib/python2.7/site-packages/seaborn/categorical.py:1791: UserWarning: The violinplot API has been changed. Attempting to adjust your arguments for the new API (which might not work). Please update your code. See the version 0.6 release notes for more info.\n",
      "  warnings.warn(msg, UserWarning)\n",
      "/home/ian/anaconda2/lib/python2.7/site-packages/matplotlib/__init__.py:892: UserWarning: axes.color_cycle is deprecated and replaced with axes.prop_cycle; please use the latter.\n",
      "  warnings.warn(self.msg_depr % (key, alt_key))\n"
     ]
    },
    {
     "data": {
      "image/png": "[encoded data removed]",
      "text/plain": [
       "<matplotlib.figure.Figure at 0x7fbf42c65ed0>"
      ]
     },
     "metadata": {},
     "output_type": "display_data"
    }
   ],
   "source": [
    "import seaborn as sns\n",
    "\n",
    "# make the size of the figure bigger (width,height)\n",
    "plt.figure(figsize=(14,8))\n",
    "\n",
    "# we pass the studio column to sns.violinplot\n",
    "sns.violinplot(top_studio_df.production_budget, groupby=top_studio_df.studio)\n",
    "plt.title('Production budget distributions for the top 10 studios');"
   ]
  },
  {
   "cell_type": "code",
   "execution_count": null,
   "metadata": {
    "collapsed": true
   },
   "outputs": [],
   "source": []
  }
 ],
 "metadata": {
  "kernelspec": {
   "display_name": "Python 2",
   "language": "python",
   "name": "python2"
  },
  "language_info": {
   "codemirror_mode": {
    "name": "ipython",
    "version": 2
   },
   "file_extension": ".py",
   "mimetype": "text/x-python",
   "name": "python",
   "nbconvert_exporter": "python",
   "pygments_lexer": "ipython2",
   "version": "2.7.11"
  }
 },
 "nbformat": 4,
 "nbformat_minor": 0
}
